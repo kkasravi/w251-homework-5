{
  "cells": [
    {
      "cell_type": "code",
      "execution_count": 2,
      "id": "cace261f",
      "metadata": {
        "id": "cace261f"
      },
      "outputs": [],
      "source": [
        "import os\n",
        "import random\n",
        "import shutil\n",
        "import time\n",
        "import warnings\n",
        "\n",
        "import torch\n",
        "import torch.nn as nn\n",
        "import torch.backends.cudnn as cudnn\n",
        "import torch.optim\n",
        "\n",
        "import torch.utils.data\n",
        "import torchvision\n",
        "import torchvision.transforms as transforms\n",
        "import torchvision.datasets as datasets\n",
        "import torchvision.models as models"
      ]
    },
    {
      "cell_type": "code",
      "source": [
        "from google.colab import drive\n",
        "drive.mount('/content/drive')"
      ],
      "metadata": {
        "colab": {
          "base_uri": "https://localhost:8080/"
        },
        "id": "HBhCaGZX7pqj",
        "outputId": "4b728208-0060-4e86-dccf-07c5fece9574"
      },
      "id": "HBhCaGZX7pqj",
      "execution_count": 3,
      "outputs": [
        {
          "output_type": "stream",
          "name": "stdout",
          "text": [
            "Mounted at /content/drive\n"
          ]
        }
      ]
    },
    {
      "cell_type": "code",
      "source": [
        "!pip install kaggle"
      ],
      "metadata": {
        "colab": {
          "base_uri": "https://localhost:8080/"
        },
        "id": "mlwBiB4CaofX",
        "outputId": "0794a42c-6737-4fe4-a39d-7c33116f71ad"
      },
      "id": "mlwBiB4CaofX",
      "execution_count": 1,
      "outputs": [
        {
          "output_type": "stream",
          "name": "stdout",
          "text": [
            "Looking in indexes: https://pypi.org/simple, https://us-python.pkg.dev/colab-wheels/public/simple/\n",
            "Requirement already satisfied: kaggle in /usr/local/lib/python3.8/dist-packages (1.5.12)\n",
            "Requirement already satisfied: certifi in /usr/local/lib/python3.8/dist-packages (from kaggle) (2022.12.7)\n",
            "Requirement already satisfied: python-slugify in /usr/local/lib/python3.8/dist-packages (from kaggle) (8.0.0)\n",
            "Requirement already satisfied: six>=1.10 in /usr/local/lib/python3.8/dist-packages (from kaggle) (1.15.0)\n",
            "Requirement already satisfied: urllib3 in /usr/local/lib/python3.8/dist-packages (from kaggle) (1.24.3)\n",
            "Requirement already satisfied: requests in /usr/local/lib/python3.8/dist-packages (from kaggle) (2.25.1)\n",
            "Requirement already satisfied: python-dateutil in /usr/local/lib/python3.8/dist-packages (from kaggle) (2.8.2)\n",
            "Requirement already satisfied: tqdm in /usr/local/lib/python3.8/dist-packages (from kaggle) (4.64.1)\n",
            "Requirement already satisfied: text-unidecode>=1.3 in /usr/local/lib/python3.8/dist-packages (from python-slugify->kaggle) (1.3)\n",
            "Requirement already satisfied: idna<3,>=2.5 in /usr/local/lib/python3.8/dist-packages (from requests->kaggle) (2.10)\n",
            "Requirement already satisfied: chardet<5,>=3.0.2 in /usr/local/lib/python3.8/dist-packages (from requests->kaggle) (4.0.0)\n"
          ]
        }
      ]
    },
    {
      "cell_type": "code",
      "source": [
        "!cp -r /content/drive/MyDrive/.kaggle /root/\n",
        "!chmod 0600 /root/.kaggle/kaggle.json\n",
        "!kaggle competitions download -c cinic-10"
      ],
      "metadata": {
        "colab": {
          "base_uri": "https://localhost:8080/"
        },
        "id": "lDVDqnOLbIhf",
        "outputId": "cbf26f4c-e33b-4a6c-a1b1-956bd73b1493"
      },
      "id": "lDVDqnOLbIhf",
      "execution_count": 4,
      "outputs": [
        {
          "output_type": "stream",
          "name": "stdout",
          "text": [
            "403 - Forbidden\n"
          ]
        }
      ]
    },
    {
      "cell_type": "code",
      "execution_count": null,
      "id": "d693cd6c",
      "metadata": {
        "id": "d693cd6c"
      },
      "outputs": [],
      "source": [
        "SEED=1"
      ]
    },
    {
      "cell_type": "code",
      "execution_count": null,
      "id": "363e2b75",
      "metadata": {
        "id": "363e2b75"
      },
      "outputs": [],
      "source": [
        "random.seed(SEED)\n",
        "torch.manual_seed(SEED)\n",
        "cudnn.deterministic = True"
      ]
    },
    {
      "cell_type": "code",
      "execution_count": null,
      "id": "0d479743",
      "metadata": {
        "id": "0d479743"
      },
      "outputs": [],
      "source": [
        "START_EPOCH = 0"
      ]
    },
    {
      "cell_type": "markdown",
      "id": "c8ec40e9",
      "metadata": {
        "id": "c8ec40e9"
      },
      "source": [
        "### Set the architecture to resnet 18 below"
      ]
    },
    {
      "cell_type": "code",
      "execution_count": null,
      "id": "97b1a0aa",
      "metadata": {
        "tags": [
          "parameters"
        ],
        "id": "97b1a0aa"
      },
      "outputs": [],
      "source": [
        "##########################\n",
        "ARCH = \"resnet18\"\n",
        "# please look up how to do that\n",
        "########################\n",
        "EPOCHS = 20\n",
        "LR = 0.1\n",
        "MOMENTUM = 0.9\n",
        "WEIGHT_DECAY = 5e-4\n",
        "PRINT_FREQ = 50\n",
        "TRAIN_BATCH=128\n",
        "VAL_BATCH=128\n",
        "WORKERS=2\n",
        "# TRAINDIR=\"/workspace/data/imagenet2012/train\"\n",
        "# VALDIR=\"/workspace/data/imagenet2012/val\""
      ]
    },
    {
      "cell_type": "code",
      "execution_count": null,
      "id": "09de23aa",
      "metadata": {
        "id": "09de23aa"
      },
      "outputs": [],
      "source": [
        "# TRAINDIR=\"/CINIC/train\"\n",
        "# VALDIR=\"/CINIC/valid\""
      ]
    },
    {
      "cell_type": "markdown",
      "id": "e86c3188",
      "metadata": {
        "id": "e86c3188"
      },
      "source": [
        "### Check if cuda is available here"
      ]
    },
    {
      "cell_type": "code",
      "execution_count": null,
      "id": "63a0499b",
      "metadata": {
        "id": "63a0499b"
      },
      "outputs": [],
      "source": [
        "# check if cuda is available in this cell\n",
        "# if it is not available, you should not go forward!\n",
        "if torch.cuda.is_available() is not True:\n",
        "  print(\"No cuda device!\")"
      ]
    },
    {
      "cell_type": "markdown",
      "id": "f83c35f6",
      "metadata": {
        "id": "f83c35f6"
      },
      "source": [
        "### Assign your GPU below"
      ]
    },
    {
      "cell_type": "code",
      "execution_count": null,
      "id": "252a08a3",
      "metadata": {
        "id": "252a08a3"
      },
      "outputs": [],
      "source": [
        "# Assign your GPU in this cell\n",
        "GPU = \"cuda:0\""
      ]
    },
    {
      "cell_type": "code",
      "execution_count": null,
      "id": "d8e7ec23",
      "metadata": {
        "id": "d8e7ec23"
      },
      "outputs": [],
      "source": [
        "# set your active device to your GPU in this cell\n",
        "device = 'cuda'\n"
      ]
    },
    {
      "cell_type": "code",
      "execution_count": null,
      "id": "1e5ddf20",
      "metadata": {
        "id": "1e5ddf20"
      },
      "outputs": [],
      "source": [
        "# enable algorithm optimization\n",
        "cudnn.benchmark = True"
      ]
    },
    {
      "cell_type": "markdown",
      "id": "7cdd6e12",
      "metadata": {
        "id": "7cdd6e12"
      },
      "source": [
        "### Fill in the heart of the train section below"
      ]
    },
    {
      "cell_type": "code",
      "execution_count": null,
      "id": "70dbd4c4",
      "metadata": {
        "id": "70dbd4c4"
      },
      "outputs": [],
      "source": [
        "def train(train_loader, model, criterion, optimizer, epoch):\n",
        "    batch_time = AverageMeter('Time', ':6.3f')\n",
        "    data_time = AverageMeter('Data', ':6.3f')\n",
        "    losses = AverageMeter('Loss', ':.4e')\n",
        "    top1 = AverageMeter('Acc@1', ':6.2f')\n",
        "    top5 = AverageMeter('Acc@5', ':6.2f')\n",
        "    progress = ProgressMeter(\n",
        "        len(train_loader),\n",
        "        [batch_time, data_time, losses, top1, top5],\n",
        "        prefix=\"Epoch: [{}]\".format(epoch))\n",
        "\n",
        "    ######################\n",
        "    # switch model to train mode here\n",
        "    model.train()\n",
        "    ################\n",
        "\n",
        "    end = time.time()\n",
        "    for i, (images, target) in enumerate(train_loader):\n",
        "        # measure data loading time\n",
        "        data_time.update(time.time() - end)\n",
        "\n",
        "        #####################\n",
        "        # send the images to cuda device\n",
        "        # send the target to cuda device\n",
        "        images = images.to(device)\n",
        "        target = target.to(device)\n",
        " \n",
        "        # compute output\n",
        "        # output = model ?? images\n",
        "        output = model(images)\n",
        "\n",
        "        # compute loss \n",
        "        # loss = criterion, output, target\n",
        "        loss = criterion(output, target)\n",
        "\n",
        "        # measure accuracy and record loss\n",
        "        acc1, acc5 = accuracy(output, target, topk=(1, 5))\n",
        "        losses.update(loss.item(), images.size(0))\n",
        "        top1.update(acc1[0], images.size(0))\n",
        "        top5.update(acc5[0], images.size(0))\n",
        "\n",
        "        # compute gradient and do SGD step\n",
        "        \n",
        "        #### zero out gradients in the optimier\n",
        "        ## optimizer ..??\n",
        "        optimizer.zero_grad()\n",
        "        \n",
        "        ## backprop!\n",
        "        ### loss... ???\n",
        "        loss.backward()\n",
        "        \n",
        "        # update the weights!\n",
        "        ## optimier .. ??\n",
        "        optimizer.step()\n",
        "\n",
        "        # measure elapsed time\n",
        "        batch_time.update(time.time() - end)\n",
        "        end = time.time()\n",
        "\n",
        "        if i % PRINT_FREQ == 0:\n",
        "            progress.display(i)"
      ]
    },
    {
      "cell_type": "markdown",
      "id": "deb3b62e",
      "metadata": {
        "id": "deb3b62e"
      },
      "source": [
        "#### Fill in the validate section below"
      ]
    },
    {
      "cell_type": "code",
      "execution_count": null,
      "id": "a3f276cc",
      "metadata": {
        "id": "a3f276cc"
      },
      "outputs": [],
      "source": [
        "def validate(val_loader, model, criterion):\n",
        "    batch_time = AverageMeter('Time', ':6.3f')\n",
        "    losses = AverageMeter('Loss', ':.4e')\n",
        "    top1 = AverageMeter('Acc@1', ':6.2f')\n",
        "    top5 = AverageMeter('Acc@5', ':6.2f')\n",
        "    progress = ProgressMeter(\n",
        "        len(val_loader),\n",
        "        [batch_time, losses, top1, top5],\n",
        "        prefix='Test: ')\n",
        "\n",
        "    # switch to evaluate mode\n",
        "    model.eval()\n",
        "\n",
        "    with torch.no_grad():\n",
        "        end = time.time()\n",
        "        for i, (images, target) in enumerate(val_loader):\n",
        "            \n",
        "            ### send the images and target to cuda\n",
        "            images = images.to(device)\n",
        "            target = target.to(device)\n",
        "\n",
        "            # compute output\n",
        "            # output = model ??? images?\n",
        "            output = model(images)\n",
        "\n",
        "            # compute loss\n",
        "            # loss  = criterion ?? output ?? target\n",
        "            loss = criterion(output, target)\n",
        "\n",
        "\n",
        "            # measure accuracy and record loss\n",
        "            acc1, acc5 = accuracy(output, target, topk=(1, 5))\n",
        "            losses.update(loss.item(), images.size(0))\n",
        "            top1.update(acc1[0], images.size(0))\n",
        "            top5.update(acc5[0], images.size(0))\n",
        "\n",
        "            # measure elapsed time\n",
        "            batch_time.update(time.time() - end)\n",
        "            end = time.time()\n",
        "\n",
        "            if i % PRINT_FREQ == 0:\n",
        "                progress.display(i)\n",
        "\n",
        "        # TODO: this should also be done with the ProgressMeter\n",
        "        print(' * Acc@1 {top1.avg:.3f} Acc@5 {top5.avg:.3f}'\n",
        "              .format(top1=top1, top5=top5))\n",
        "\n",
        "    return top1.avg"
      ]
    },
    {
      "cell_type": "markdown",
      "id": "fbe49226",
      "metadata": {
        "id": "fbe49226"
      },
      "source": [
        "### Save the checkpoint"
      ]
    },
    {
      "cell_type": "code",
      "execution_count": null,
      "id": "ff8a4159",
      "metadata": {
        "id": "ff8a4159"
      },
      "outputs": [],
      "source": [
        "def save_checkpoint(state, is_best, filename='checkpoint.pth.tar'):\n",
        "    # save the model state!\n",
        "    # state ??? \n",
        "    torch.save(state, filename)\n",
        "    if is_best:\n",
        "        shutil.copyfile(filename, 'model_best.pth.tar')"
      ]
    },
    {
      "cell_type": "code",
      "execution_count": null,
      "id": "1cd7ea3a",
      "metadata": {
        "id": "1cd7ea3a"
      },
      "outputs": [],
      "source": [
        "class AverageMeter(object):\n",
        "    \"\"\"Computes and stores the average and current value\"\"\"\n",
        "    def __init__(self, name, fmt=':f'):\n",
        "        self.name = name\n",
        "        self.fmt = fmt\n",
        "        self.reset()\n",
        "\n",
        "    def reset(self):\n",
        "        self.val = 0\n",
        "        self.avg = 0\n",
        "        self.sum = 0\n",
        "        self.count = 0\n",
        "\n",
        "    def update(self, val, n=1):\n",
        "        self.val = val\n",
        "        self.sum += val * n\n",
        "        self.count += n\n",
        "        self.avg = self.sum / self.count\n",
        "\n",
        "    def __str__(self):\n",
        "        fmtstr = '{name} {val' + self.fmt + '} ({avg' + self.fmt + '})'\n",
        "        return fmtstr.format(**self.__dict__)"
      ]
    },
    {
      "cell_type": "code",
      "execution_count": null,
      "id": "e1da87ab",
      "metadata": {
        "id": "e1da87ab"
      },
      "outputs": [],
      "source": [
        "class ProgressMeter(object):\n",
        "    def __init__(self, num_batches, meters, prefix=\"\"):\n",
        "        self.batch_fmtstr = self._get_batch_fmtstr(num_batches)\n",
        "        self.meters = meters\n",
        "        self.prefix = prefix\n",
        "\n",
        "    def display(self, batch):\n",
        "        entries = [self.prefix + self.batch_fmtstr.format(batch)]\n",
        "        entries += [str(meter) for meter in self.meters]\n",
        "        print('\\t'.join(entries))\n",
        "\n",
        "    def _get_batch_fmtstr(self, num_batches):\n",
        "        num_digits = len(str(num_batches // 1))\n",
        "        fmt = '{:' + str(num_digits) + 'd}'\n",
        "        return '[' + fmt + '/' + fmt.format(num_batches) + ']'"
      ]
    },
    {
      "cell_type": "code",
      "execution_count": null,
      "id": "00211030",
      "metadata": {
        "id": "00211030"
      },
      "outputs": [],
      "source": [
        "# if we are adjusting the LR manually use this\n",
        "def adjust_learning_rate(optimizer, epoch):\n",
        "    \"\"\"Sets the learning rate to the initial LR decayed by 10 every 30 epochs\"\"\"\n",
        "    lr = LR * (0.1 ** (epoch // 30))\n",
        "    for param_group in optimizer.param_groups:\n",
        "        param_group['lr'] = lr"
      ]
    },
    {
      "cell_type": "code",
      "execution_count": null,
      "id": "da2c1382",
      "metadata": {
        "id": "da2c1382"
      },
      "outputs": [],
      "source": [
        "def accuracy(output, target, topk=(1,)):\n",
        "    \"\"\"Computes the accuracy over the k top predictions for the specified values of k\"\"\"\n",
        "    with torch.no_grad():\n",
        "        maxk = max(topk)\n",
        "        batch_size = target.size(0)\n",
        "\n",
        "        _, pred = output.topk(maxk, 1, True, True)\n",
        "        pred = pred.t()\n",
        "        correct = pred.eq(target.view(1, -1).expand_as(pred))\n",
        "\n",
        "        res = []\n",
        "        for k in topk:\n",
        "            correct_k = correct[:k].reshape(-1).float().sum(0, keepdim=True)\n",
        "            res.append(correct_k.mul_(100.0 / batch_size))\n",
        "        return res"
      ]
    },
    {
      "cell_type": "code",
      "execution_count": null,
      "id": "5c29e7a1",
      "metadata": {
        "id": "5c29e7a1"
      },
      "outputs": [],
      "source": [
        "imagenet_mean_RGB = [0.47889522, 0.47227842, 0.43047404]\n",
        "imagenet_std_RGB = [0.229, 0.224, 0.225]\n",
        "cinic_mean_RGB = [0.47889522, 0.47227842, 0.43047404]\n",
        "cinic_std_RGB = [0.24205776, 0.23828046, 0.25874835]\n",
        "cifar_mean_RGB = [0.4914, 0.4822, 0.4465]\n",
        "cifar_std_RGB = [0.2023, 0.1994, 0.2010]"
      ]
    },
    {
      "cell_type": "code",
      "execution_count": null,
      "id": "e1a61c02",
      "metadata": {
        "id": "e1a61c02"
      },
      "outputs": [],
      "source": [
        "normalize = transforms.Normalize(mean=cifar_mean_RGB, std=cifar_std_RGB)"
      ]
    },
    {
      "cell_type": "code",
      "execution_count": null,
      "id": "47dd3e49",
      "metadata": {
        "id": "47dd3e49"
      },
      "outputs": [],
      "source": [
        "IMG_SIZE = 32\n",
        "# IMG_SIZE = 224"
      ]
    },
    {
      "cell_type": "markdown",
      "id": "de4387cb",
      "metadata": {
        "id": "de4387cb"
      },
      "source": [
        "### Initialize the model using the architecture you selected above"
      ]
    },
    {
      "cell_type": "code",
      "execution_count": null,
      "id": "b1abcc33",
      "metadata": {
        "id": "b1abcc33",
        "colab": {
          "base_uri": "https://localhost:8080/",
          "height": 158,
          "referenced_widgets": [
            "d92e986e1c05423b99885cd607d50a55",
            "0d1ad2cd18c54122854bf33b37608cf6",
            "cba5693c082a454da57c71f168645b01",
            "2894f95842604138b389f75b4b26cde2",
            "21ca6c7faf1340ac905145e7f8fcbad7",
            "64aeb270a265483e926cef9f2bcb1329",
            "e7c21a9ce2324cfea04346400f46ee4b",
            "12cb743a7f5d4bcdb43c4a33d8c32484",
            "443b46375be74d429c78e14241e055d8",
            "93cf0c20bcd741aeae9504b82d02c223",
            "db65a2fdc155416692b25cbfdca1b33c"
          ]
        },
        "outputId": "6c08f8f2-6c0b-4a04-a191-8e8b278efe64"
      },
      "outputs": [
        {
          "output_type": "stream",
          "name": "stderr",
          "text": [
            "/usr/local/lib/python3.8/dist-packages/torchvision/models/_utils.py:208: UserWarning: The parameter 'pretrained' is deprecated since 0.13 and may be removed in the future, please use 'weights' instead.\n",
            "  warnings.warn(\n",
            "/usr/local/lib/python3.8/dist-packages/torchvision/models/_utils.py:223: UserWarning: Arguments other than a weight enum or `None` for 'weights' are deprecated since 0.13 and may be removed in the future. The current behavior is equivalent to passing `weights=ResNet18_Weights.IMAGENET1K_V1`. You can also use `weights=ResNet18_Weights.DEFAULT` to get the most up-to-date weights.\n",
            "  warnings.warn(msg)\n",
            "Downloading: \"https://download.pytorch.org/models/resnet18-f37072fd.pth\" to /root/.cache/torch/hub/checkpoints/resnet18-f37072fd.pth\n"
          ]
        },
        {
          "output_type": "display_data",
          "data": {
            "text/plain": [
              "  0%|          | 0.00/44.7M [00:00<?, ?B/s]"
            ],
            "application/vnd.jupyter.widget-view+json": {
              "version_major": 2,
              "version_minor": 0,
              "model_id": "d92e986e1c05423b99885cd607d50a55"
            }
          },
          "metadata": {}
        }
      ],
      "source": [
        "# select the model\n",
        "# model = ... \n",
        "if ARCH == \"resnet18\":\n",
        "    model = models.resnet18(pretrained=True)"
      ]
    },
    {
      "cell_type": "markdown",
      "id": "2db1bb69",
      "metadata": {
        "id": "2db1bb69"
      },
      "source": [
        "### Send the model to the cuda device"
      ]
    },
    {
      "cell_type": "code",
      "execution_count": null,
      "id": "7d23ccb4",
      "metadata": {
        "id": "7d23ccb4"
      },
      "outputs": [],
      "source": [
        "# send the model to the cuda device.. \n",
        "model = model.to(device)"
      ]
    },
    {
      "cell_type": "markdown",
      "id": "47a8eb8d",
      "metadata": {
        "id": "47a8eb8d"
      },
      "source": [
        "### Instantiate the loss to cross entropy"
      ]
    },
    {
      "cell_type": "code",
      "execution_count": null,
      "id": "a49ae3c9",
      "metadata": {
        "id": "a49ae3c9"
      },
      "outputs": [],
      "source": [
        "# use the cross-entropy loss\n",
        "criterion = nn.CrossEntropyLoss()"
      ]
    },
    {
      "cell_type": "markdown",
      "id": "8a49045a",
      "metadata": {
        "id": "8a49045a"
      },
      "source": [
        "### Instantiate the optimizer to SGD"
      ]
    },
    {
      "cell_type": "code",
      "execution_count": null,
      "id": "aa3a04dd",
      "metadata": {
        "id": "aa3a04dd"
      },
      "outputs": [],
      "source": [
        "# use SGD .. use the momentum and weight decay vars\n",
        "optimizer = torch.optim.SGD(model.parameters(), lr=LR, momentum=MOMENTUM, weight_decay=WEIGHT_DECAY)\n"
      ]
    },
    {
      "cell_type": "markdown",
      "id": "f93ef11d",
      "metadata": {
        "id": "f93ef11d"
      },
      "source": [
        "#### Create the learning rate scheduler"
      ]
    },
    {
      "cell_type": "code",
      "execution_count": null,
      "id": "a0e1727a",
      "metadata": {
        "id": "a0e1727a"
      },
      "outputs": [],
      "source": [
        "# use CosineAnnealingLR\n",
        "scheduler = torch.optim.lr_scheduler.CosineAnnealingLR(optimizer, T_max=100)"
      ]
    },
    {
      "cell_type": "code",
      "execution_count": null,
      "id": "2fe08caa",
      "metadata": {
        "id": "2fe08caa"
      },
      "outputs": [],
      "source": [
        "transform_train = transforms.Compose([\n",
        "    transforms.RandomCrop(32, padding=4),\n",
        "    transforms.RandomHorizontalFlip(),\n",
        "    transforms.ToTensor(),\n",
        "    transforms.Normalize(cifar_mean_RGB, cifar_std_RGB),\n",
        "])"
      ]
    },
    {
      "cell_type": "markdown",
      "id": "236528e1",
      "metadata": {
        "id": "236528e1"
      },
      "source": [
        "### Create the train dataset object"
      ]
    },
    {
      "cell_type": "code",
      "execution_count": null,
      "id": "7c29f6b1",
      "metadata": {
        "id": "7c29f6b1",
        "colab": {
          "base_uri": "https://localhost:8080/",
          "height": 407
        },
        "outputId": "0c31e7be-f742-44fc-fd8a-910a1b9ba000"
      },
      "outputs": [
        {
          "output_type": "error",
          "ename": "FileNotFoundError",
          "evalue": "ignored",
          "traceback": [
            "\u001b[0;31m---------------------------------------------------------------------------\u001b[0m",
            "\u001b[0;31mFileNotFoundError\u001b[0m                         Traceback (most recent call last)",
            "\u001b[0;32m<ipython-input-30-389fc58d536f>\u001b[0m in \u001b[0;36m<module>\u001b[0;34m\u001b[0m\n\u001b[1;32m      1\u001b[0m \u001b[0;31m# use torchvision.datasets.CIFAR10\u001b[0m\u001b[0;34m\u001b[0m\u001b[0;34m\u001b[0m\u001b[0;34m\u001b[0m\u001b[0m\n\u001b[0;32m----> 2\u001b[0;31m \u001b[0mtrain_dataset\u001b[0m \u001b[0;34m=\u001b[0m \u001b[0mtorchvision\u001b[0m\u001b[0;34m.\u001b[0m\u001b[0mdatasets\u001b[0m\u001b[0;34m.\u001b[0m\u001b[0mImageFolder\u001b[0m\u001b[0;34m(\u001b[0m\u001b[0mroot\u001b[0m\u001b[0;34m=\u001b[0m\u001b[0;34m'/content/drive/MyDrive/Colab Notebooks/CINIC-10/train'\u001b[0m\u001b[0;34m,\u001b[0m \u001b[0mtransform\u001b[0m\u001b[0;34m=\u001b[0m\u001b[0mtransform_train\u001b[0m\u001b[0;34m)\u001b[0m\u001b[0;34m\u001b[0m\u001b[0;34m\u001b[0m\u001b[0m\n\u001b[0m\u001b[1;32m      3\u001b[0m \u001b[0;31m#train_dataset = torchvision.datasets.CIFAR10('./datasets', train=True,\u001b[0m\u001b[0;34m\u001b[0m\u001b[0;34m\u001b[0m\u001b[0;34m\u001b[0m\u001b[0m\n\u001b[1;32m      4\u001b[0m \u001b[0;31m#                                         download=True, transform=transform_train)\u001b[0m\u001b[0;34m\u001b[0m\u001b[0;34m\u001b[0m\u001b[0;34m\u001b[0m\u001b[0m\n\u001b[1;32m      5\u001b[0m \u001b[0;34m\u001b[0m\u001b[0m\n",
            "\u001b[0;32m/usr/local/lib/python3.8/dist-packages/torchvision/datasets/folder.py\u001b[0m in \u001b[0;36m__init__\u001b[0;34m(self, root, transform, target_transform, loader, is_valid_file)\u001b[0m\n\u001b[1;32m    307\u001b[0m         \u001b[0mis_valid_file\u001b[0m\u001b[0;34m:\u001b[0m \u001b[0mOptional\u001b[0m\u001b[0;34m[\u001b[0m\u001b[0mCallable\u001b[0m\u001b[0;34m[\u001b[0m\u001b[0;34m[\u001b[0m\u001b[0mstr\u001b[0m\u001b[0;34m]\u001b[0m\u001b[0;34m,\u001b[0m \u001b[0mbool\u001b[0m\u001b[0;34m]\u001b[0m\u001b[0;34m]\u001b[0m \u001b[0;34m=\u001b[0m \u001b[0;32mNone\u001b[0m\u001b[0;34m,\u001b[0m\u001b[0;34m\u001b[0m\u001b[0;34m\u001b[0m\u001b[0m\n\u001b[1;32m    308\u001b[0m     ):\n\u001b[0;32m--> 309\u001b[0;31m         super().__init__(\n\u001b[0m\u001b[1;32m    310\u001b[0m             \u001b[0mroot\u001b[0m\u001b[0;34m,\u001b[0m\u001b[0;34m\u001b[0m\u001b[0;34m\u001b[0m\u001b[0m\n\u001b[1;32m    311\u001b[0m             \u001b[0mloader\u001b[0m\u001b[0;34m,\u001b[0m\u001b[0;34m\u001b[0m\u001b[0;34m\u001b[0m\u001b[0m\n",
            "\u001b[0;32m/usr/local/lib/python3.8/dist-packages/torchvision/datasets/folder.py\u001b[0m in \u001b[0;36m__init__\u001b[0;34m(self, root, loader, extensions, transform, target_transform, is_valid_file)\u001b[0m\n\u001b[1;32m    142\u001b[0m     ) -> None:\n\u001b[1;32m    143\u001b[0m         \u001b[0msuper\u001b[0m\u001b[0;34m(\u001b[0m\u001b[0;34m)\u001b[0m\u001b[0;34m.\u001b[0m\u001b[0m__init__\u001b[0m\u001b[0;34m(\u001b[0m\u001b[0mroot\u001b[0m\u001b[0;34m,\u001b[0m \u001b[0mtransform\u001b[0m\u001b[0;34m=\u001b[0m\u001b[0mtransform\u001b[0m\u001b[0;34m,\u001b[0m \u001b[0mtarget_transform\u001b[0m\u001b[0;34m=\u001b[0m\u001b[0mtarget_transform\u001b[0m\u001b[0;34m)\u001b[0m\u001b[0;34m\u001b[0m\u001b[0;34m\u001b[0m\u001b[0m\n\u001b[0;32m--> 144\u001b[0;31m         \u001b[0mclasses\u001b[0m\u001b[0;34m,\u001b[0m \u001b[0mclass_to_idx\u001b[0m \u001b[0;34m=\u001b[0m \u001b[0mself\u001b[0m\u001b[0;34m.\u001b[0m\u001b[0mfind_classes\u001b[0m\u001b[0;34m(\u001b[0m\u001b[0mself\u001b[0m\u001b[0;34m.\u001b[0m\u001b[0mroot\u001b[0m\u001b[0;34m)\u001b[0m\u001b[0;34m\u001b[0m\u001b[0;34m\u001b[0m\u001b[0m\n\u001b[0m\u001b[1;32m    145\u001b[0m         \u001b[0msamples\u001b[0m \u001b[0;34m=\u001b[0m \u001b[0mself\u001b[0m\u001b[0;34m.\u001b[0m\u001b[0mmake_dataset\u001b[0m\u001b[0;34m(\u001b[0m\u001b[0mself\u001b[0m\u001b[0;34m.\u001b[0m\u001b[0mroot\u001b[0m\u001b[0;34m,\u001b[0m \u001b[0mclass_to_idx\u001b[0m\u001b[0;34m,\u001b[0m \u001b[0mextensions\u001b[0m\u001b[0;34m,\u001b[0m \u001b[0mis_valid_file\u001b[0m\u001b[0;34m)\u001b[0m\u001b[0;34m\u001b[0m\u001b[0;34m\u001b[0m\u001b[0m\n\u001b[1;32m    146\u001b[0m \u001b[0;34m\u001b[0m\u001b[0m\n",
            "\u001b[0;32m/usr/local/lib/python3.8/dist-packages/torchvision/datasets/folder.py\u001b[0m in \u001b[0;36mfind_classes\u001b[0;34m(self, directory)\u001b[0m\n\u001b[1;32m    216\u001b[0m             \u001b[0;34m(\u001b[0m\u001b[0mTuple\u001b[0m\u001b[0;34m[\u001b[0m\u001b[0mList\u001b[0m\u001b[0;34m[\u001b[0m\u001b[0mstr\u001b[0m\u001b[0;34m]\u001b[0m\u001b[0;34m,\u001b[0m \u001b[0mDict\u001b[0m\u001b[0;34m[\u001b[0m\u001b[0mstr\u001b[0m\u001b[0;34m,\u001b[0m \u001b[0mint\u001b[0m\u001b[0;34m]\u001b[0m\u001b[0;34m]\u001b[0m\u001b[0;34m)\u001b[0m\u001b[0;34m:\u001b[0m \u001b[0mList\u001b[0m \u001b[0mof\u001b[0m \u001b[0mall\u001b[0m \u001b[0mclasses\u001b[0m \u001b[0;32mand\u001b[0m \u001b[0mdictionary\u001b[0m \u001b[0mmapping\u001b[0m \u001b[0meach\u001b[0m \u001b[0;32mclass\u001b[0m \u001b[0mto\u001b[0m \u001b[0man\u001b[0m \u001b[0mindex\u001b[0m\u001b[0;34m.\u001b[0m\u001b[0;34m\u001b[0m\u001b[0;34m\u001b[0m\u001b[0m\n\u001b[1;32m    217\u001b[0m         \"\"\"\n\u001b[0;32m--> 218\u001b[0;31m         \u001b[0;32mreturn\u001b[0m \u001b[0mfind_classes\u001b[0m\u001b[0;34m(\u001b[0m\u001b[0mdirectory\u001b[0m\u001b[0;34m)\u001b[0m\u001b[0;34m\u001b[0m\u001b[0;34m\u001b[0m\u001b[0m\n\u001b[0m\u001b[1;32m    219\u001b[0m \u001b[0;34m\u001b[0m\u001b[0m\n\u001b[1;32m    220\u001b[0m     \u001b[0;32mdef\u001b[0m \u001b[0m__getitem__\u001b[0m\u001b[0;34m(\u001b[0m\u001b[0mself\u001b[0m\u001b[0;34m,\u001b[0m \u001b[0mindex\u001b[0m\u001b[0;34m:\u001b[0m \u001b[0mint\u001b[0m\u001b[0;34m)\u001b[0m \u001b[0;34m->\u001b[0m \u001b[0mTuple\u001b[0m\u001b[0;34m[\u001b[0m\u001b[0mAny\u001b[0m\u001b[0;34m,\u001b[0m \u001b[0mAny\u001b[0m\u001b[0;34m]\u001b[0m\u001b[0;34m:\u001b[0m\u001b[0;34m\u001b[0m\u001b[0;34m\u001b[0m\u001b[0m\n",
            "\u001b[0;32m/usr/local/lib/python3.8/dist-packages/torchvision/datasets/folder.py\u001b[0m in \u001b[0;36mfind_classes\u001b[0;34m(directory)\u001b[0m\n\u001b[1;32m     38\u001b[0m     \u001b[0mSee\u001b[0m \u001b[0;34m:\u001b[0m\u001b[0;32mclass\u001b[0m\u001b[0;34m:\u001b[0m\u001b[0;31m`\u001b[0m\u001b[0mDatasetFolder\u001b[0m\u001b[0;31m`\u001b[0m \u001b[0;32mfor\u001b[0m \u001b[0mdetails\u001b[0m\u001b[0;34m.\u001b[0m\u001b[0;34m\u001b[0m\u001b[0;34m\u001b[0m\u001b[0m\n\u001b[1;32m     39\u001b[0m     \"\"\"\n\u001b[0;32m---> 40\u001b[0;31m     \u001b[0mclasses\u001b[0m \u001b[0;34m=\u001b[0m \u001b[0msorted\u001b[0m\u001b[0;34m(\u001b[0m\u001b[0mentry\u001b[0m\u001b[0;34m.\u001b[0m\u001b[0mname\u001b[0m \u001b[0;32mfor\u001b[0m \u001b[0mentry\u001b[0m \u001b[0;32min\u001b[0m \u001b[0mos\u001b[0m\u001b[0;34m.\u001b[0m\u001b[0mscandir\u001b[0m\u001b[0;34m(\u001b[0m\u001b[0mdirectory\u001b[0m\u001b[0;34m)\u001b[0m \u001b[0;32mif\u001b[0m \u001b[0mentry\u001b[0m\u001b[0;34m.\u001b[0m\u001b[0mis_dir\u001b[0m\u001b[0;34m(\u001b[0m\u001b[0;34m)\u001b[0m\u001b[0;34m)\u001b[0m\u001b[0;34m\u001b[0m\u001b[0;34m\u001b[0m\u001b[0m\n\u001b[0m\u001b[1;32m     41\u001b[0m     \u001b[0;32mif\u001b[0m \u001b[0;32mnot\u001b[0m \u001b[0mclasses\u001b[0m\u001b[0;34m:\u001b[0m\u001b[0;34m\u001b[0m\u001b[0;34m\u001b[0m\u001b[0m\n\u001b[1;32m     42\u001b[0m         \u001b[0;32mraise\u001b[0m \u001b[0mFileNotFoundError\u001b[0m\u001b[0;34m(\u001b[0m\u001b[0;34mf\"Couldn't find any class folder in {directory}.\"\u001b[0m\u001b[0;34m)\u001b[0m\u001b[0;34m\u001b[0m\u001b[0;34m\u001b[0m\u001b[0m\n",
            "\u001b[0;31mFileNotFoundError\u001b[0m: [Errno 2] No such file or directory: '/content/drive/MyDrive/Colab Notebooks/CINIC-10/train'"
          ]
        }
      ],
      "source": [
        "# use torchvision.datasets.CIFAR10\n",
        "train_dataset = torchvision.datasets.ImageFolder(root='/content/drive/MyDrive/Colab Notebooks/CINIC-10/train', transform=transform_train)\n",
        "#train_dataset = torchvision.datasets.CIFAR10('./datasets', train=True, \n",
        "#                                         download=True, transform=transform_train)\n",
        "\n"
      ]
    },
    {
      "cell_type": "code",
      "execution_count": null,
      "id": "63dfe3c0",
      "metadata": {
        "id": "63dfe3c0"
      },
      "outputs": [],
      "source": [
        "transform_val = transforms.Compose([\n",
        "    transforms.ToTensor(),\n",
        "    transforms.Normalize(cifar_mean_RGB, cifar_std_RGB),\n",
        "])"
      ]
    },
    {
      "cell_type": "markdown",
      "id": "38ca6c39",
      "metadata": {
        "id": "38ca6c39"
      },
      "source": [
        "### Create the val dataset object"
      ]
    },
    {
      "cell_type": "code",
      "execution_count": null,
      "id": "42d58f82",
      "metadata": {
        "id": "42d58f82",
        "colab": {
          "base_uri": "https://localhost:8080/"
        },
        "outputId": "bed4cc23-fd4c-4dae-8077-f762bacf3e4f"
      },
      "outputs": [
        {
          "output_type": "stream",
          "name": "stdout",
          "text": [
            "Files already downloaded and verified\n"
          ]
        }
      ],
      "source": [
        "# use torchvision.datasets.CIFAR10\n",
        "val_dataset = torchvision.datasets.ImageFolder(root='/content/drive/MyDrive/Colab Notebooks/CINIC-10/valid', transform=transform_train)\n",
        "\n",
        "#val_dataset = torchvision.datasets.CIFAR10(root='./datasets', train=False,\n",
        "#                                        download=True, transform=transform_val)"
      ]
    },
    {
      "cell_type": "markdown",
      "id": "3a291660",
      "metadata": {
        "id": "3a291660"
      },
      "source": [
        "### Create the train dataloader"
      ]
    },
    {
      "cell_type": "code",
      "execution_count": null,
      "id": "574373be",
      "metadata": {
        "id": "574373be"
      },
      "outputs": [],
      "source": [
        "# fill this in\n",
        "train_loader = torch.utils.data.DataLoader(train_dataset, batch_size=TRAIN_BATCH, \n",
        "                                           shuffle=True, num_workers=WORKERS)\n"
      ]
    },
    {
      "cell_type": "markdown",
      "id": "b280c6e0",
      "metadata": {
        "id": "b280c6e0"
      },
      "source": [
        "### Create the c"
      ]
    },
    {
      "cell_type": "code",
      "execution_count": null,
      "id": "6aa623fe",
      "metadata": {
        "id": "6aa623fe"
      },
      "outputs": [],
      "source": [
        "# fill this in..\n",
        "val_loader = torch.utils.data.DataLoader(val_dataset, batch_size=VAL_BATCH, \n",
        "                                          shuffle=False, num_workers=WORKERS)\n"
      ]
    },
    {
      "cell_type": "code",
      "execution_count": null,
      "id": "7cfa6766",
      "metadata": {
        "id": "7cfa6766"
      },
      "outputs": [],
      "source": [
        "best_acc1 = 0"
      ]
    },
    {
      "cell_type": "code",
      "execution_count": null,
      "id": "0d0620a6",
      "metadata": {
        "id": "0d0620a6",
        "colab": {
          "base_uri": "https://localhost:8080/"
        },
        "outputId": "32a7beba-7a6d-4aa3-f9ba-36ee70082b21"
      },
      "outputs": [
        {
          "output_type": "stream",
          "name": "stdout",
          "text": [
            "Epoch: [0][  0/391]\tTime  7.708 ( 7.708)\tData  0.197 ( 0.197)\tLoss 1.4050e+01 (1.4050e+01)\tAcc@1   0.00 (  0.00)\tAcc@5   0.00 (  0.00)\n",
            "Epoch: [0][ 50/391]\tTime  0.040 ( 0.203)\tData  0.001 ( 0.019)\tLoss 2.6229e+00 (4.9079e+00)\tAcc@1   8.59 ( 10.81)\tAcc@5  47.66 ( 50.08)\n",
            "Epoch: [0][100/391]\tTime  0.032 ( 0.130)\tData  0.001 ( 0.018)\tLoss 2.0860e+00 (3.8649e+00)\tAcc@1  22.66 ( 13.19)\tAcc@5  71.88 ( 56.91)\n",
            "Epoch: [0][150/391]\tTime  0.086 ( 0.108)\tData  0.039 ( 0.019)\tLoss 2.8320e+00 (3.4884e+00)\tAcc@1  13.28 ( 14.27)\tAcc@5  67.19 ( 61.85)\n",
            "Epoch: [0][200/391]\tTime  0.040 ( 0.101)\tData  0.007 ( 0.024)\tLoss 2.2766e+00 (3.2164e+00)\tAcc@1  19.53 ( 15.12)\tAcc@5  82.81 ( 64.73)\n",
            "Epoch: [0][250/391]\tTime  0.069 ( 0.092)\tData  0.035 ( 0.023)\tLoss 2.1877e+00 (3.0181e+00)\tAcc@1  24.22 ( 16.23)\tAcc@5  78.12 ( 67.47)\n",
            "Epoch: [0][300/391]\tTime  0.025 ( 0.086)\tData  0.001 ( 0.022)\tLoss 1.9865e+00 (2.8799e+00)\tAcc@1  27.34 ( 17.29)\tAcc@5  83.59 ( 69.91)\n",
            "Epoch: [0][350/391]\tTime  0.037 ( 0.081)\tData  0.006 ( 0.022)\tLoss 1.9512e+00 (2.7441e+00)\tAcc@1  21.88 ( 18.43)\tAcc@5  86.72 ( 72.10)\n",
            "Test: [ 0/79]\tTime  0.187 ( 0.187)\tLoss 1.8075e+00 (1.8075e+00)\tAcc@1  34.38 ( 34.38)\tAcc@5  85.16 ( 85.16)\n",
            "Test: [50/79]\tTime  0.014 ( 0.052)\tLoss 1.8137e+00 (2.2310e+00)\tAcc@1  28.12 ( 26.75)\tAcc@5  81.25 ( 84.70)\n",
            " * Acc@1 26.740 Acc@5 84.830\n",
            "lr: [0.09997532801828658]\n",
            "Epoch: [1][  0/391]\tTime  0.234 ( 0.234)\tData  0.195 ( 0.195)\tLoss 1.8387e+00 (1.8387e+00)\tAcc@1  26.56 ( 26.56)\tAcc@5  88.28 ( 88.28)\n",
            "Epoch: [1][ 50/391]\tTime  0.073 ( 0.058)\tData  0.034 ( 0.023)\tLoss 1.7925e+00 (1.9156e+00)\tAcc@1  32.03 ( 26.13)\tAcc@5  85.94 ( 83.82)\n",
            "Epoch: [1][100/391]\tTime  0.032 ( 0.057)\tData  0.001 ( 0.021)\tLoss 1.8629e+00 (1.8795e+00)\tAcc@1  35.16 ( 27.48)\tAcc@5  85.16 ( 84.96)\n",
            "Epoch: [1][150/391]\tTime  0.037 ( 0.055)\tData  0.001 ( 0.020)\tLoss 1.8783e+00 (1.8349e+00)\tAcc@1  31.25 ( 29.29)\tAcc@5  83.59 ( 85.81)\n",
            "Epoch: [1][200/391]\tTime  0.109 ( 0.063)\tData  0.068 ( 0.026)\tLoss 1.8056e+00 (1.8135e+00)\tAcc@1  36.72 ( 30.04)\tAcc@5  85.16 ( 86.12)\n",
            "Epoch: [1][250/391]\tTime  0.077 ( 0.062)\tData  0.042 ( 0.025)\tLoss 1.7680e+00 (1.7897e+00)\tAcc@1  27.34 ( 30.99)\tAcc@5  86.72 ( 86.55)\n",
            "Epoch: [1][300/391]\tTime  0.047 ( 0.061)\tData  0.016 ( 0.023)\tLoss 1.6426e+00 (1.7645e+00)\tAcc@1  39.84 ( 32.09)\tAcc@5  85.94 ( 87.06)\n",
            "Epoch: [1][350/391]\tTime  0.060 ( 0.060)\tData  0.022 ( 0.023)\tLoss 1.6426e+00 (1.7432e+00)\tAcc@1  39.84 ( 33.28)\tAcc@5  88.28 ( 87.46)\n",
            "Test: [ 0/79]\tTime  0.226 ( 0.226)\tLoss 1.5335e+00 (1.5335e+00)\tAcc@1  46.88 ( 46.88)\tAcc@5  91.41 ( 91.41)\n",
            "Test: [50/79]\tTime  0.029 ( 0.055)\tLoss 1.6889e+00 (1.5501e+00)\tAcc@1  35.16 ( 43.43)\tAcc@5  86.72 ( 90.15)\n",
            " * Acc@1 43.490 Acc@5 90.230\n",
            "lr: [0.09992599014342873]\n",
            "Epoch: [2][  0/391]\tTime  0.264 ( 0.264)\tData  0.216 ( 0.216)\tLoss 1.5632e+00 (1.5632e+00)\tAcc@1  42.19 ( 42.19)\tAcc@5  92.97 ( 92.97)\n",
            "Epoch: [2][ 50/391]\tTime  0.066 ( 0.059)\tData  0.042 ( 0.022)\tLoss 1.6001e+00 (1.5533e+00)\tAcc@1  42.97 ( 41.56)\tAcc@5  86.72 ( 91.31)\n",
            "Epoch: [2][100/391]\tTime  0.041 ( 0.057)\tData  0.001 ( 0.020)\tLoss 1.7088e+00 (1.5365e+00)\tAcc@1  35.94 ( 42.35)\tAcc@5  85.94 ( 91.28)\n",
            "Epoch: [2][150/391]\tTime  0.045 ( 0.056)\tData  0.007 ( 0.020)\tLoss 1.4935e+00 (1.5297e+00)\tAcc@1  49.22 ( 42.75)\tAcc@5  96.09 ( 91.34)\n",
            "Epoch: [2][200/391]\tTime  0.054 ( 0.060)\tData  0.005 ( 0.023)\tLoss 1.2628e+00 (1.5192e+00)\tAcc@1  52.34 ( 43.25)\tAcc@5  92.97 ( 91.51)\n",
            "Epoch: [2][250/391]\tTime  0.046 ( 0.062)\tData  0.001 ( 0.025)\tLoss 1.3101e+00 (1.5199e+00)\tAcc@1  53.12 ( 43.52)\tAcc@5  92.97 ( 91.44)\n",
            "Epoch: [2][300/391]\tTime  0.039 ( 0.061)\tData  0.002 ( 0.024)\tLoss 1.5056e+00 (1.5183e+00)\tAcc@1  39.84 ( 43.58)\tAcc@5  92.19 ( 91.47)\n",
            "Epoch: [2][350/391]\tTime  0.085 ( 0.060)\tData  0.056 ( 0.023)\tLoss 1.3748e+00 (1.5082e+00)\tAcc@1  50.78 ( 44.11)\tAcc@5  95.31 ( 91.62)\n",
            "Test: [ 0/79]\tTime  0.170 ( 0.170)\tLoss 1.2835e+00 (1.2835e+00)\tAcc@1  51.56 ( 51.56)\tAcc@5  94.53 ( 94.53)\n",
            "Test: [50/79]\tTime  0.055 ( 0.041)\tLoss 1.2386e+00 (1.4605e+00)\tAcc@1  58.59 ( 48.25)\tAcc@5  94.53 ( 92.39)\n",
            " * Acc@1 48.040 Acc@5 92.320\n",
            "lr: [0.09987664009744603]\n",
            "Epoch: [3][  0/391]\tTime  0.396 ( 0.396)\tData  0.318 ( 0.318)\tLoss 1.2921e+00 (1.2921e+00)\tAcc@1  53.91 ( 53.91)\tAcc@5  92.97 ( 92.97)\n",
            "Epoch: [3][ 50/391]\tTime  0.039 ( 0.070)\tData  0.014 ( 0.030)\tLoss 1.3882e+00 (1.3857e+00)\tAcc@1  46.88 ( 49.65)\tAcc@5  94.53 ( 93.21)\n",
            "Epoch: [3][100/391]\tTime  0.067 ( 0.063)\tData  0.028 ( 0.024)\tLoss 1.4406e+00 (1.3752e+00)\tAcc@1  53.12 ( 49.95)\tAcc@5  93.75 ( 93.32)\n",
            "Epoch: [3][150/391]\tTime  0.061 ( 0.060)\tData  0.030 ( 0.022)\tLoss 1.2933e+00 (1.3591e+00)\tAcc@1  51.56 ( 50.44)\tAcc@5  96.88 ( 93.59)\n",
            "Epoch: [3][200/391]\tTime  0.048 ( 0.059)\tData  0.001 ( 0.022)\tLoss 1.2593e+00 (1.3468e+00)\tAcc@1  57.03 ( 50.93)\tAcc@5  89.84 ( 93.70)\n",
            "Epoch: [3][250/391]\tTime  0.135 ( 0.064)\tData  0.062 ( 0.026)\tLoss 1.2935e+00 (1.3387e+00)\tAcc@1  53.12 ( 51.27)\tAcc@5  94.53 ( 93.90)\n",
            "Epoch: [3][300/391]\tTime  0.039 ( 0.063)\tData  0.007 ( 0.025)\tLoss 1.2074e+00 (1.3252e+00)\tAcc@1  57.03 ( 51.84)\tAcc@5  95.31 ( 94.02)\n",
            "Epoch: [3][350/391]\tTime  0.088 ( 0.061)\tData  0.053 ( 0.024)\tLoss 1.2332e+00 (1.3151e+00)\tAcc@1  54.69 ( 52.34)\tAcc@5  95.31 ( 94.06)\n",
            "Test: [ 0/79]\tTime  0.157 ( 0.157)\tLoss 1.1528e+00 (1.1528e+00)\tAcc@1  55.47 ( 55.47)\tAcc@5  96.09 ( 96.09)\n",
            "Test: [50/79]\tTime  0.038 ( 0.033)\tLoss 1.0860e+00 (1.1628e+00)\tAcc@1  59.38 ( 58.55)\tAcc@5  95.31 ( 95.83)\n",
            " * Acc@1 58.610 Acc@5 95.970\n",
            "lr: [0.09982725350804691]\n",
            "Epoch: [4][  0/391]\tTime  0.372 ( 0.372)\tData  0.321 ( 0.321)\tLoss 1.2375e+00 (1.2375e+00)\tAcc@1  56.25 ( 56.25)\tAcc@5  95.31 ( 95.31)\n",
            "Epoch: [4][ 50/391]\tTime  0.077 ( 0.085)\tData  0.052 ( 0.049)\tLoss 1.2631e+00 (1.2373e+00)\tAcc@1  57.03 ( 55.70)\tAcc@5  93.75 ( 95.01)\n",
            "Epoch: [4][100/391]\tTime  0.058 ( 0.070)\tData  0.019 ( 0.036)\tLoss 1.1730e+00 (1.2101e+00)\tAcc@1  57.81 ( 56.49)\tAcc@5  96.09 ( 95.10)\n",
            "Epoch: [4][150/391]\tTime  0.081 ( 0.065)\tData  0.042 ( 0.031)\tLoss 1.2586e+00 (1.2251e+00)\tAcc@1  57.03 ( 56.24)\tAcc@5  96.09 ( 94.92)\n",
            "Epoch: [4][200/391]\tTime  0.082 ( 0.062)\tData  0.051 ( 0.028)\tLoss 1.2051e+00 (1.2217e+00)\tAcc@1  58.59 ( 56.50)\tAcc@5  95.31 ( 94.97)\n",
            "Epoch: [4][250/391]\tTime  0.048 ( 0.065)\tData  0.006 ( 0.030)\tLoss 1.0356e+00 (1.2137e+00)\tAcc@1  60.94 ( 56.87)\tAcc@5  96.09 ( 94.99)\n",
            "Epoch: [4][300/391]\tTime  0.070 ( 0.066)\tData  0.028 ( 0.030)\tLoss 1.3547e+00 (1.2042e+00)\tAcc@1  57.81 ( 57.24)\tAcc@5  93.75 ( 95.08)\n",
            "Epoch: [4][350/391]\tTime  0.034 ( 0.064)\tData  0.002 ( 0.029)\tLoss 1.0509e+00 (1.1989e+00)\tAcc@1  60.94 ( 57.40)\tAcc@5  97.66 ( 95.16)\n",
            "Test: [ 0/79]\tTime  0.155 ( 0.155)\tLoss 1.0358e+00 (1.0358e+00)\tAcc@1  64.06 ( 64.06)\tAcc@5  96.88 ( 96.88)\n",
            "Test: [50/79]\tTime  0.012 ( 0.034)\tLoss 1.0628e+00 (1.0603e+00)\tAcc@1  64.84 ( 62.75)\tAcc@5  93.75 ( 96.48)\n",
            " * Acc@1 62.790 Acc@5 96.420\n",
            "lr: [0.09977780593073182]\n",
            "Epoch: [5][  0/391]\tTime  0.265 ( 0.265)\tData  0.202 ( 0.202)\tLoss 1.0810e+00 (1.0810e+00)\tAcc@1  59.38 ( 59.38)\tAcc@5  93.75 ( 93.75)\n",
            "Epoch: [5][ 50/391]\tTime  0.072 ( 0.085)\tData  0.002 ( 0.044)\tLoss 1.1352e+00 (1.1322e+00)\tAcc@1  61.72 ( 60.06)\tAcc@5  94.53 ( 95.30)\n",
            "Epoch: [5][100/391]\tTime  0.031 ( 0.073)\tData  0.001 ( 0.036)\tLoss 1.1496e+00 (1.1425e+00)\tAcc@1  59.38 ( 59.36)\tAcc@5  94.53 ( 95.37)\n",
            "Epoch: [5][150/391]\tTime  0.057 ( 0.067)\tData  0.019 ( 0.031)\tLoss 1.2502e+00 (1.1352e+00)\tAcc@1  57.03 ( 59.76)\tAcc@5  97.66 ( 95.70)\n",
            "Epoch: [5][200/391]\tTime  0.025 ( 0.064)\tData  0.001 ( 0.028)\tLoss 8.8071e-01 (1.1262e+00)\tAcc@1  75.78 ( 60.30)\tAcc@5  97.66 ( 95.67)\n",
            "Epoch: [5][250/391]\tTime  0.099 ( 0.063)\tData  0.053 ( 0.026)\tLoss 1.0532e+00 (1.1217e+00)\tAcc@1  66.41 ( 60.54)\tAcc@5  98.44 ( 95.72)\n",
            "Epoch: [5][300/391]\tTime  0.065 ( 0.067)\tData  0.035 ( 0.029)\tLoss 1.1382e+00 (1.1171e+00)\tAcc@1  59.38 ( 60.69)\tAcc@5  96.09 ( 95.81)\n",
            "Epoch: [5][350/391]\tTime  0.062 ( 0.065)\tData  0.023 ( 0.028)\tLoss 1.0690e+00 (1.1178e+00)\tAcc@1  63.28 ( 60.64)\tAcc@5  92.97 ( 95.82)\n",
            "Test: [ 0/79]\tTime  0.162 ( 0.162)\tLoss 9.9418e-01 (9.9418e-01)\tAcc@1  68.75 ( 68.75)\tAcc@5  95.31 ( 95.31)\n",
            "Test: [50/79]\tTime  0.026 ( 0.034)\tLoss 9.1097e-01 (9.7791e-01)\tAcc@1  68.75 ( 65.93)\tAcc@5  96.88 ( 96.83)\n",
            " * Acc@1 66.010 Acc@5 96.810\n",
            "lr: [0.09972827280031075]\n",
            "Epoch: [6][  0/391]\tTime  0.245 ( 0.245)\tData  0.201 ( 0.201)\tLoss 8.5887e-01 (8.5887e-01)\tAcc@1  67.97 ( 67.97)\tAcc@5  96.88 ( 96.88)\n",
            "Epoch: [6][ 50/391]\tTime  0.053 ( 0.070)\tData  0.025 ( 0.027)\tLoss 1.1333e+00 (1.0768e+00)\tAcc@1  62.50 ( 62.39)\tAcc@5  94.53 ( 96.09)\n",
            "Epoch: [6][100/391]\tTime  0.067 ( 0.074)\tData  0.033 ( 0.034)\tLoss 1.2531e+00 (1.0806e+00)\tAcc@1  53.91 ( 62.14)\tAcc@5  96.09 ( 96.04)\n",
            "Epoch: [6][150/391]\tTime  0.053 ( 0.068)\tData  0.029 ( 0.029)\tLoss 1.0141e+00 (1.0717e+00)\tAcc@1  62.50 ( 62.41)\tAcc@5  96.09 ( 96.20)\n",
            "Epoch: [6][200/391]\tTime  0.065 ( 0.065)\tData  0.039 ( 0.026)\tLoss 8.5381e-01 (1.0613e+00)\tAcc@1  72.66 ( 62.77)\tAcc@5  96.88 ( 96.25)\n",
            "Epoch: [6][250/391]\tTime  0.040 ( 0.063)\tData  0.006 ( 0.025)\tLoss 9.6287e-01 (1.0576e+00)\tAcc@1  66.41 ( 62.98)\tAcc@5  97.66 ( 96.23)\n",
            "Epoch: [6][300/391]\tTime  0.080 ( 0.065)\tData  0.019 ( 0.026)\tLoss 1.0050e+00 (1.0529e+00)\tAcc@1  60.16 ( 63.08)\tAcc@5  98.44 ( 96.32)\n",
            "Epoch: [6][350/391]\tTime  0.046 ( 0.070)\tData  0.004 ( 0.028)\tLoss 9.9585e-01 (1.0474e+00)\tAcc@1  58.59 ( 63.23)\tAcc@5  97.66 ( 96.39)\n",
            "Test: [ 0/79]\tTime  0.181 ( 0.181)\tLoss 8.9491e-01 (8.9491e-01)\tAcc@1  73.44 ( 73.44)\tAcc@5  97.66 ( 97.66)\n",
            "Test: [50/79]\tTime  0.028 ( 0.034)\tLoss 9.2053e-01 (9.7841e-01)\tAcc@1  67.97 ( 66.05)\tAcc@5  96.09 ( 97.00)\n",
            " * Acc@1 66.250 Acc@5 97.020\n",
            "lr: [0.09967862938191226]\n",
            "Epoch: [7][  0/391]\tTime  0.236 ( 0.236)\tData  0.199 ( 0.199)\tLoss 1.0841e+00 (1.0841e+00)\tAcc@1  64.84 ( 64.84)\tAcc@5  98.44 ( 98.44)\n",
            "Epoch: [7][ 50/391]\tTime  0.065 ( 0.058)\tData  0.024 ( 0.020)\tLoss 9.7090e-01 (1.0323e+00)\tAcc@1  74.22 ( 63.89)\tAcc@5  94.53 ( 96.86)\n",
            "Epoch: [7][100/391]\tTime  0.105 ( 0.070)\tData  0.064 ( 0.031)\tLoss 1.0580e+00 (1.0201e+00)\tAcc@1  57.81 ( 63.85)\tAcc@5  95.31 ( 96.87)\n",
            "Epoch: [7][150/391]\tTime  0.046 ( 0.068)\tData  0.007 ( 0.028)\tLoss 1.0991e+00 (1.0235e+00)\tAcc@1  61.72 ( 63.87)\tAcc@5  95.31 ( 96.70)\n",
            "Epoch: [7][200/391]\tTime  0.048 ( 0.064)\tData  0.009 ( 0.026)\tLoss 1.2151e+00 (1.0178e+00)\tAcc@1  52.34 ( 64.17)\tAcc@5  96.88 ( 96.72)\n",
            "Epoch: [7][250/391]\tTime  0.025 ( 0.063)\tData  0.001 ( 0.024)\tLoss 9.9836e-01 (1.0157e+00)\tAcc@1  65.62 ( 64.45)\tAcc@5  96.09 ( 96.64)\n",
            "Epoch: [7][300/391]\tTime  0.143 ( 0.062)\tData  0.098 ( 0.024)\tLoss 9.8493e-01 (1.0113e+00)\tAcc@1  68.75 ( 64.67)\tAcc@5  96.09 ( 96.71)\n",
            "Epoch: [7][350/391]\tTime  0.074 ( 0.066)\tData  0.049 ( 0.026)\tLoss 8.7539e-01 (1.0061e+00)\tAcc@1  71.88 ( 64.85)\tAcc@5  98.44 ( 96.74)\n",
            "Test: [ 0/79]\tTime  0.159 ( 0.159)\tLoss 1.1264e+00 (1.1264e+00)\tAcc@1  65.62 ( 65.62)\tAcc@5  95.31 ( 95.31)\n",
            "Test: [50/79]\tTime  0.010 ( 0.034)\tLoss 1.0157e+00 (1.0750e+00)\tAcc@1  67.97 ( 63.31)\tAcc@5  96.09 ( 96.78)\n",
            " * Acc@1 63.280 Acc@5 96.800\n",
            "lr: [0.09962885072127631]\n",
            "Epoch: [8][  0/391]\tTime  0.244 ( 0.244)\tData  0.199 ( 0.199)\tLoss 1.1224e+00 (1.1224e+00)\tAcc@1  59.38 ( 59.38)\tAcc@5  95.31 ( 95.31)\n",
            "Epoch: [8][ 50/391]\tTime  0.054 ( 0.058)\tData  0.021 ( 0.019)\tLoss 8.7176e-01 (9.7312e-01)\tAcc@1  69.53 ( 66.45)\tAcc@5  99.22 ( 96.77)\n",
            "Epoch: [8][100/391]\tTime  0.131 ( 0.061)\tData  0.098 ( 0.021)\tLoss 1.0356e+00 (9.6955e-01)\tAcc@1  64.84 ( 66.24)\tAcc@5  96.88 ( 96.84)\n",
            "Epoch: [8][150/391]\tTime  0.026 ( 0.068)\tData  0.001 ( 0.028)\tLoss 1.0386e+00 (9.6930e-01)\tAcc@1  65.62 ( 66.25)\tAcc@5  96.09 ( 96.89)\n",
            "Epoch: [8][200/391]\tTime  0.059 ( 0.065)\tData  0.021 ( 0.026)\tLoss 1.0272e+00 (9.7340e-01)\tAcc@1  62.50 ( 66.02)\tAcc@5  96.88 ( 96.78)\n",
            "Epoch: [8][250/391]\tTime  0.056 ( 0.063)\tData  0.014 ( 0.024)\tLoss 7.9024e-01 (9.7252e-01)\tAcc@1  73.44 ( 66.09)\tAcc@5  98.44 ( 96.80)\n",
            "Epoch: [8][300/391]\tTime  0.046 ( 0.062)\tData  0.006 ( 0.023)\tLoss 1.0820e+00 (9.7597e-01)\tAcc@1  64.84 ( 65.97)\tAcc@5  95.31 ( 96.78)\n",
            "Epoch: [8][350/391]\tTime  0.135 ( 0.064)\tData  0.097 ( 0.025)\tLoss 9.2421e-01 (9.7277e-01)\tAcc@1  67.97 ( 66.13)\tAcc@5  98.44 ( 96.82)\n",
            "Test: [ 0/79]\tTime  0.156 ( 0.156)\tLoss 1.0745e+00 (1.0745e+00)\tAcc@1  64.06 ( 64.06)\tAcc@5  96.09 ( 96.09)\n",
            "Test: [50/79]\tTime  0.043 ( 0.034)\tLoss 1.0780e+00 (1.0455e+00)\tAcc@1  66.41 ( 63.91)\tAcc@5  97.66 ( 96.92)\n",
            " * Acc@1 63.700 Acc@5 96.880\n",
            "lr: [0.09957891159411648]\n",
            "Epoch: [9][  0/391]\tTime  0.246 ( 0.246)\tData  0.196 ( 0.196)\tLoss 1.1654e+00 (1.1654e+00)\tAcc@1  60.94 ( 60.94)\tAcc@5  92.19 ( 92.19)\n",
            "Epoch: [9][ 50/391]\tTime  0.069 ( 0.058)\tData  0.025 ( 0.019)\tLoss 9.2755e-01 (9.3920e-01)\tAcc@1  65.62 ( 67.54)\tAcc@5  96.88 ( 97.26)\n",
            "Epoch: [9][100/391]\tTime  0.046 ( 0.057)\tData  0.006 ( 0.019)\tLoss 8.8081e-01 (9.3440e-01)\tAcc@1  67.97 ( 67.64)\tAcc@5  98.44 ( 97.14)\n",
            "Epoch: [9][150/391]\tTime  0.052 ( 0.066)\tData  0.001 ( 0.025)\tLoss 8.7599e-01 (9.3968e-01)\tAcc@1  71.09 ( 67.56)\tAcc@5  97.66 ( 97.04)\n",
            "Epoch: [9][200/391]\tTime  0.056 ( 0.064)\tData  0.018 ( 0.024)\tLoss 1.0841e+00 (9.4342e-01)\tAcc@1  61.72 ( 67.09)\tAcc@5  96.88 ( 97.03)\n",
            "Epoch: [9][250/391]\tTime  0.056 ( 0.063)\tData  0.009 ( 0.023)\tLoss 9.2274e-01 (9.4432e-01)\tAcc@1  70.31 ( 67.14)\tAcc@5  96.88 ( 97.01)\n",
            "Epoch: [9][300/391]\tTime  0.083 ( 0.061)\tData  0.048 ( 0.022)\tLoss 8.9437e-01 (9.4229e-01)\tAcc@1  67.97 ( 67.22)\tAcc@5  97.66 ( 97.00)\n",
            "Epoch: [9][350/391]\tTime  0.047 ( 0.061)\tData  0.003 ( 0.023)\tLoss 8.0961e-01 (9.3967e-01)\tAcc@1  71.09 ( 67.43)\tAcc@5  98.44 ( 97.00)\n",
            "Test: [ 0/79]\tTime  0.199 ( 0.199)\tLoss 1.0161e+00 (1.0161e+00)\tAcc@1  68.75 ( 68.75)\tAcc@5  96.09 ( 96.09)\n",
            "Test: [50/79]\tTime  0.057 ( 0.036)\tLoss 1.0504e+00 (1.0127e+00)\tAcc@1  65.62 ( 65.23)\tAcc@5  95.31 ( 96.94)\n",
            " * Acc@1 65.020 Acc@5 96.970\n",
            "lr: [0.09952878645433173]\n",
            "Epoch: [10][  0/391]\tTime  0.233 ( 0.233)\tData  0.185 ( 0.185)\tLoss 9.9891e-01 (9.9891e-01)\tAcc@1  65.62 ( 65.62)\tAcc@5  97.66 ( 97.66)\n",
            "Epoch: [10][ 50/391]\tTime  0.043 ( 0.057)\tData  0.007 ( 0.020)\tLoss 8.3501e-01 (9.0299e-01)\tAcc@1  68.75 ( 68.64)\tAcc@5  98.44 ( 97.33)\n",
            "Epoch: [10][100/391]\tTime  0.036 ( 0.056)\tData  0.001 ( 0.020)\tLoss 8.0853e-01 (9.0858e-01)\tAcc@1  73.44 ( 68.70)\tAcc@5  98.44 ( 97.13)\n",
            "Epoch: [10][150/391]\tTime  0.126 ( 0.059)\tData  0.054 ( 0.021)\tLoss 1.1132e+00 (9.0907e-01)\tAcc@1  57.81 ( 68.77)\tAcc@5  98.44 ( 97.14)\n",
            "Epoch: [10][200/391]\tTime  0.068 ( 0.064)\tData  0.032 ( 0.025)\tLoss 8.1253e-01 (9.0890e-01)\tAcc@1  71.88 ( 68.83)\tAcc@5  97.66 ( 97.14)\n",
            "Epoch: [10][250/391]\tTime  0.027 ( 0.062)\tData  0.001 ( 0.023)\tLoss 9.7267e-01 (9.1759e-01)\tAcc@1  72.66 ( 68.56)\tAcc@5  95.31 ( 97.09)\n",
            "Epoch: [10][300/391]\tTime  0.086 ( 0.061)\tData  0.062 ( 0.023)\tLoss 8.2673e-01 (9.1275e-01)\tAcc@1  70.31 ( 68.67)\tAcc@5  98.44 ( 97.07)\n",
            "Epoch: [10][350/391]\tTime  0.044 ( 0.060)\tData  0.001 ( 0.022)\tLoss 7.9791e-01 (9.1423e-01)\tAcc@1  74.22 ( 68.48)\tAcc@5  97.66 ( 97.11)\n",
            "Test: [ 0/79]\tTime  0.228 ( 0.228)\tLoss 8.0789e-01 (8.0789e-01)\tAcc@1  75.78 ( 75.78)\tAcc@5  97.66 ( 97.66)\n",
            "Test: [50/79]\tTime  0.047 ( 0.053)\tLoss 7.4838e-01 (8.9581e-01)\tAcc@1  71.88 ( 69.33)\tAcc@5  98.44 ( 97.41)\n",
            " * Acc@1 69.210 Acc@5 97.460\n",
            "lr: [0.09947844938083851]\n",
            "Epoch: [11][  0/391]\tTime  0.248 ( 0.248)\tData  0.215 ( 0.215)\tLoss 9.2725e-01 (9.2725e-01)\tAcc@1  70.31 ( 70.31)\tAcc@5  96.09 ( 96.09)\n",
            "Epoch: [11][ 50/391]\tTime  0.064 ( 0.059)\tData  0.026 ( 0.023)\tLoss 8.8475e-01 (8.8359e-01)\tAcc@1  71.88 ( 69.12)\tAcc@5  96.88 ( 97.38)\n",
            "Epoch: [11][100/391]\tTime  0.066 ( 0.057)\tData  0.028 ( 0.020)\tLoss 1.0099e+00 (8.9518e-01)\tAcc@1  70.31 ( 69.05)\tAcc@5  96.09 ( 97.26)\n",
            "Epoch: [11][150/391]\tTime  0.083 ( 0.057)\tData  0.037 ( 0.019)\tLoss 8.6581e-01 (8.8013e-01)\tAcc@1  71.09 ( 69.54)\tAcc@5  96.88 ( 97.42)\n",
            "Epoch: [11][200/391]\tTime  0.144 ( 0.064)\tData  0.094 ( 0.025)\tLoss 9.6371e-01 (8.7518e-01)\tAcc@1  69.53 ( 69.69)\tAcc@5  96.09 ( 97.47)\n",
            "Epoch: [11][250/391]\tTime  0.040 ( 0.062)\tData  0.001 ( 0.024)\tLoss 8.0038e-01 (8.7490e-01)\tAcc@1  71.09 ( 69.79)\tAcc@5  99.22 ( 97.43)\n",
            "Epoch: [11][300/391]\tTime  0.048 ( 0.061)\tData  0.013 ( 0.023)\tLoss 7.4459e-01 (8.8143e-01)\tAcc@1  74.22 ( 69.51)\tAcc@5  97.66 ( 97.32)\n",
            "Epoch: [11][350/391]\tTime  0.056 ( 0.060)\tData  0.019 ( 0.022)\tLoss 9.7720e-01 (8.8271e-01)\tAcc@1  67.19 ( 69.59)\tAcc@5  97.66 ( 97.32)\n",
            "Test: [ 0/79]\tTime  0.243 ( 0.243)\tLoss 8.2124e-01 (8.2124e-01)\tAcc@1  71.88 ( 71.88)\tAcc@5  97.66 ( 97.66)\n",
            "Test: [50/79]\tTime  0.080 ( 0.054)\tLoss 7.8739e-01 (8.9197e-01)\tAcc@1  69.53 ( 69.72)\tAcc@5  99.22 ( 97.30)\n",
            " * Acc@1 69.580 Acc@5 97.250\n",
            "lr: [0.09942787402278414]\n",
            "Epoch: [12][  0/391]\tTime  0.265 ( 0.265)\tData  0.214 ( 0.214)\tLoss 1.0516e+00 (1.0516e+00)\tAcc@1  63.28 ( 63.28)\tAcc@5  95.31 ( 95.31)\n",
            "Epoch: [12][ 50/391]\tTime  0.047 ( 0.058)\tData  0.010 ( 0.020)\tLoss 8.9690e-01 (8.6173e-01)\tAcc@1  70.31 ( 69.94)\tAcc@5  97.66 ( 97.40)\n",
            "Epoch: [12][100/391]\tTime  0.050 ( 0.056)\tData  0.003 ( 0.018)\tLoss 9.8327e-01 (8.6293e-01)\tAcc@1  67.97 ( 70.20)\tAcc@5  94.53 ( 97.37)\n",
            "Epoch: [12][150/391]\tTime  0.072 ( 0.055)\tData  0.041 ( 0.018)\tLoss 7.3323e-01 (8.6177e-01)\tAcc@1  78.12 ( 70.27)\tAcc@5  98.44 ( 97.38)\n",
            "Epoch: [12][200/391]\tTime  0.158 ( 0.060)\tData  0.106 ( 0.023)\tLoss 9.0865e-01 (8.6724e-01)\tAcc@1  63.28 ( 70.10)\tAcc@5  96.88 ( 97.33)\n",
            "Epoch: [12][250/391]\tTime  0.045 ( 0.061)\tData  0.009 ( 0.024)\tLoss 9.1234e-01 (8.6903e-01)\tAcc@1  64.06 ( 69.90)\tAcc@5  96.88 ( 97.36)\n",
            "Epoch: [12][300/391]\tTime  0.047 ( 0.060)\tData  0.007 ( 0.024)\tLoss 1.2510e+00 (8.6815e-01)\tAcc@1  57.81 ( 69.92)\tAcc@5  96.09 ( 97.43)\n",
            "Epoch: [12][350/391]\tTime  0.036 ( 0.059)\tData  0.001 ( 0.023)\tLoss 8.8251e-01 (8.7110e-01)\tAcc@1  68.75 ( 69.81)\tAcc@5  96.09 ( 97.41)\n",
            "Test: [ 0/79]\tTime  0.154 ( 0.154)\tLoss 8.8933e-01 (8.8933e-01)\tAcc@1  74.22 ( 74.22)\tAcc@5  92.97 ( 92.97)\n",
            "Test: [50/79]\tTime  0.068 ( 0.039)\tLoss 9.0236e-01 (9.4601e-01)\tAcc@1  70.31 ( 68.40)\tAcc@5  96.88 ( 97.06)\n",
            " * Acc@1 68.690 Acc@5 97.160\n",
            "lr: [0.0993770335428905]\n",
            "Epoch: [13][  0/391]\tTime  0.356 ( 0.356)\tData  0.312 ( 0.312)\tLoss 9.8249e-01 (9.8249e-01)\tAcc@1  65.62 ( 65.62)\tAcc@5  96.88 ( 96.88)\n",
            "Epoch: [13][ 50/391]\tTime  0.065 ( 0.072)\tData  0.039 ( 0.035)\tLoss 7.9620e-01 (8.2941e-01)\tAcc@1  74.22 ( 71.31)\tAcc@5  97.66 ( 97.98)\n",
            "Epoch: [13][100/391]\tTime  0.075 ( 0.063)\tData  0.035 ( 0.026)\tLoss 7.2003e-01 (8.5022e-01)\tAcc@1  75.78 ( 70.70)\tAcc@5  97.66 ( 97.75)\n",
            "Epoch: [13][150/391]\tTime  0.060 ( 0.059)\tData  0.027 ( 0.023)\tLoss 8.3064e-01 (8.5162e-01)\tAcc@1  71.09 ( 70.61)\tAcc@5  97.66 ( 97.72)\n",
            "Epoch: [13][200/391]\tTime  0.046 ( 0.058)\tData  0.001 ( 0.022)\tLoss 9.4871e-01 (8.5326e-01)\tAcc@1  67.19 ( 70.60)\tAcc@5  99.22 ( 97.66)\n",
            "Epoch: [13][250/391]\tTime  0.062 ( 0.063)\tData  0.010 ( 0.026)\tLoss 8.8804e-01 (8.5974e-01)\tAcc@1  75.78 ( 70.37)\tAcc@5  95.31 ( 97.58)\n",
            "Epoch: [13][300/391]\tTime  0.025 ( 0.063)\tData  0.001 ( 0.026)\tLoss 8.8719e-01 (8.6094e-01)\tAcc@1  67.97 ( 70.34)\tAcc@5  96.88 ( 97.53)\n",
            "Epoch: [13][350/391]\tTime  0.026 ( 0.061)\tData  0.001 ( 0.025)\tLoss 9.4131e-01 (8.6269e-01)\tAcc@1  70.31 ( 70.32)\tAcc@5  99.22 ( 97.56)\n",
            "Test: [ 0/79]\tTime  0.155 ( 0.155)\tLoss 7.8136e-01 (7.8136e-01)\tAcc@1  75.00 ( 75.00)\tAcc@5  96.09 ( 96.09)\n",
            "Test: [50/79]\tTime  0.035 ( 0.033)\tLoss 9.2054e-01 (9.1483e-01)\tAcc@1  68.75 ( 68.98)\tAcc@5  98.44 ( 97.56)\n",
            " * Acc@1 68.620 Acc@5 97.540\n",
            "lr: [0.09932590055866242]\n",
            "Epoch: [14][  0/391]\tTime  0.266 ( 0.266)\tData  0.206 ( 0.206)\tLoss 9.2862e-01 (9.2862e-01)\tAcc@1  64.84 ( 64.84)\tAcc@5 100.00 (100.00)\n",
            "Epoch: [14][ 50/391]\tTime  0.078 ( 0.093)\tData  0.053 ( 0.048)\tLoss 7.9824e-01 (8.2867e-01)\tAcc@1  72.66 ( 70.91)\tAcc@5  99.22 ( 98.19)\n",
            "Epoch: [14][100/391]\tTime  0.048 ( 0.074)\tData  0.005 ( 0.034)\tLoss 8.8147e-01 (8.3642e-01)\tAcc@1  67.97 ( 71.29)\tAcc@5  99.22 ( 98.04)\n",
            "Epoch: [14][150/391]\tTime  0.042 ( 0.067)\tData  0.005 ( 0.029)\tLoss 9.1475e-01 (8.4043e-01)\tAcc@1  71.09 ( 71.15)\tAcc@5  95.31 ( 97.96)\n",
            "Epoch: [14][200/391]\tTime  0.072 ( 0.064)\tData  0.034 ( 0.026)\tLoss 7.4000e-01 (8.4477e-01)\tAcc@1  75.78 ( 71.04)\tAcc@5  99.22 ( 97.87)\n",
            "Epoch: [14][250/391]\tTime  0.126 ( 0.065)\tData  0.102 ( 0.027)\tLoss 8.5013e-01 (8.4583e-01)\tAcc@1  71.09 ( 70.95)\tAcc@5  96.09 ( 97.76)\n",
            "Epoch: [14][300/391]\tTime  0.028 ( 0.067)\tData  0.003 ( 0.028)\tLoss 1.0078e+00 (8.4081e-01)\tAcc@1  67.19 ( 71.17)\tAcc@5  95.31 ( 97.77)\n",
            "Epoch: [14][350/391]\tTime  0.039 ( 0.065)\tData  0.005 ( 0.026)\tLoss 7.8612e-01 (8.4455e-01)\tAcc@1  64.84 ( 71.00)\tAcc@5  99.22 ( 97.75)\n",
            "Test: [ 0/79]\tTime  0.162 ( 0.162)\tLoss 6.2807e-01 (6.2807e-01)\tAcc@1  79.69 ( 79.69)\tAcc@5  97.66 ( 97.66)\n",
            "Test: [50/79]\tTime  0.008 ( 0.032)\tLoss 9.1106e-01 (8.4219e-01)\tAcc@1  71.09 ( 71.23)\tAcc@5  96.09 ( 97.79)\n",
            " * Acc@1 71.170 Acc@5 97.810\n",
            "lr: [0.0992744470811794]\n",
            "Epoch: [15][  0/391]\tTime  0.239 ( 0.239)\tData  0.200 ( 0.200)\tLoss 7.6987e-01 (7.6987e-01)\tAcc@1  77.34 ( 77.34)\tAcc@5  98.44 ( 98.44)\n",
            "Epoch: [15][ 50/391]\tTime  0.088 ( 0.078)\tData  0.029 ( 0.039)\tLoss 9.0471e-01 (8.2284e-01)\tAcc@1  71.88 ( 71.81)\tAcc@5  96.88 ( 97.70)\n",
            "Epoch: [15][100/391]\tTime  0.036 ( 0.073)\tData  0.006 ( 0.034)\tLoss 7.5772e-01 (8.2452e-01)\tAcc@1  74.22 ( 71.85)\tAcc@5  97.66 ( 97.71)\n",
            "Epoch: [15][150/391]\tTime  0.066 ( 0.067)\tData  0.028 ( 0.028)\tLoss 8.2064e-01 (8.2086e-01)\tAcc@1  71.88 ( 72.08)\tAcc@5  97.66 ( 97.57)\n",
            "Epoch: [15][200/391]\tTime  0.027 ( 0.064)\tData  0.003 ( 0.026)\tLoss 9.0562e-01 (8.2860e-01)\tAcc@1  71.88 ( 71.66)\tAcc@5  99.22 ( 97.63)\n",
            "Epoch: [15][250/391]\tTime  0.176 ( 0.070)\tData  0.123 ( 0.030)\tLoss 7.1313e-01 (8.3168e-01)\tAcc@1  75.78 ( 71.68)\tAcc@5  99.22 ( 97.61)\n",
            "Epoch: [15][300/391]\tTime  0.096 ( 0.073)\tData  0.056 ( 0.031)\tLoss 7.8448e-01 (8.2874e-01)\tAcc@1  67.97 ( 71.70)\tAcc@5  96.88 ( 97.63)\n",
            "Epoch: [15][350/391]\tTime  0.044 ( 0.070)\tData  0.001 ( 0.030)\tLoss 7.7441e-01 (8.3436e-01)\tAcc@1  73.44 ( 71.49)\tAcc@5  97.66 ( 97.57)\n",
            "Test: [ 0/79]\tTime  0.168 ( 0.168)\tLoss 9.0887e-01 (9.0887e-01)\tAcc@1  69.53 ( 69.53)\tAcc@5  98.44 ( 98.44)\n",
            "Test: [50/79]\tTime  0.051 ( 0.034)\tLoss 1.0428e+00 (9.2035e-01)\tAcc@1  71.88 ( 68.70)\tAcc@5  94.53 ( 97.35)\n",
            " * Acc@1 68.050 Acc@5 97.540\n",
            "lr: [0.0992226444511706]\n",
            "Epoch: [16][  0/391]\tTime  0.256 ( 0.256)\tData  0.186 ( 0.186)\tLoss 8.2872e-01 (8.2872e-01)\tAcc@1  74.22 ( 74.22)\tAcc@5 100.00 (100.00)\n",
            "Epoch: [16][ 50/391]\tTime  0.076 ( 0.065)\tData  0.048 ( 0.025)\tLoss 8.3350e-01 (8.1178e-01)\tAcc@1  73.44 ( 72.04)\tAcc@5  97.66 ( 97.84)\n",
            "Epoch: [16][100/391]\tTime  0.037 ( 0.073)\tData  0.001 ( 0.033)\tLoss 8.8289e-01 (8.0827e-01)\tAcc@1  71.09 ( 72.11)\tAcc@5  96.88 ( 97.89)\n",
            "Epoch: [16][150/391]\tTime  0.035 ( 0.067)\tData  0.003 ( 0.028)\tLoss 7.5799e-01 (8.1792e-01)\tAcc@1  70.31 ( 71.61)\tAcc@5  98.44 ( 97.80)\n",
            "Epoch: [16][200/391]\tTime  0.025 ( 0.064)\tData  0.001 ( 0.026)\tLoss 8.3356e-01 (8.1502e-01)\tAcc@1  71.88 ( 71.70)\tAcc@5  96.09 ( 97.77)\n",
            "Epoch: [16][250/391]\tTime  0.047 ( 0.062)\tData  0.007 ( 0.024)\tLoss 7.6547e-01 (8.1521e-01)\tAcc@1  75.78 ( 71.70)\tAcc@5  97.66 ( 97.74)\n",
            "Epoch: [16][300/391]\tTime  0.129 ( 0.064)\tData  0.095 ( 0.025)\tLoss 8.7362e-01 (8.1228e-01)\tAcc@1  67.97 ( 71.82)\tAcc@5  96.88 ( 97.70)\n",
            "Epoch: [16][350/391]\tTime  0.045 ( 0.065)\tData  0.001 ( 0.026)\tLoss 7.3561e-01 (8.1724e-01)\tAcc@1  76.56 ( 71.71)\tAcc@5  95.31 ( 97.69)\n",
            "Test: [ 0/79]\tTime  0.152 ( 0.152)\tLoss 6.2019e-01 (6.2019e-01)\tAcc@1  78.91 ( 78.91)\tAcc@5  96.88 ( 96.88)\n",
            "Test: [50/79]\tTime  0.026 ( 0.033)\tLoss 7.7702e-01 (7.8627e-01)\tAcc@1  74.22 ( 72.59)\tAcc@5  98.44 ( 98.05)\n",
            " * Acc@1 72.270 Acc@5 98.110\n",
            "lr: [0.09917046327205126]\n",
            "Epoch: [17][  0/391]\tTime  0.246 ( 0.246)\tData  0.197 ( 0.197)\tLoss 7.6766e-01 (7.6766e-01)\tAcc@1  74.22 ( 74.22)\tAcc@5  95.31 ( 95.31)\n",
            "Epoch: [17][ 50/391]\tTime  0.066 ( 0.060)\tData  0.025 ( 0.020)\tLoss 9.1434e-01 (7.9760e-01)\tAcc@1  70.31 ( 72.47)\tAcc@5  98.44 ( 97.86)\n",
            "Epoch: [17][100/391]\tTime  0.058 ( 0.071)\tData  0.019 ( 0.031)\tLoss 7.3005e-01 (7.9688e-01)\tAcc@1  75.78 ( 72.49)\tAcc@5  99.22 ( 97.86)\n",
            "Epoch: [17][150/391]\tTime  0.036 ( 0.068)\tData  0.005 ( 0.029)\tLoss 8.2226e-01 (7.9632e-01)\tAcc@1  71.88 ( 72.63)\tAcc@5  97.66 ( 97.88)\n",
            "Epoch: [17][200/391]\tTime  0.034 ( 0.064)\tData  0.002 ( 0.026)\tLoss 9.1767e-01 (7.9745e-01)\tAcc@1  71.88 ( 72.51)\tAcc@5  96.88 ( 97.93)\n",
            "Epoch: [17][250/391]\tTime  0.081 ( 0.063)\tData  0.052 ( 0.026)\tLoss 8.6527e-01 (8.0032e-01)\tAcc@1  69.53 ( 72.51)\tAcc@5  95.31 ( 97.86)\n",
            "Epoch: [17][300/391]\tTime  0.093 ( 0.062)\tData  0.046 ( 0.025)\tLoss 7.9140e-01 (8.0592e-01)\tAcc@1  75.78 ( 72.33)\tAcc@5  96.09 ( 97.77)\n",
            "Epoch: [17][350/391]\tTime  0.052 ( 0.065)\tData  0.020 ( 0.027)\tLoss 8.3887e-01 (8.0660e-01)\tAcc@1  70.31 ( 72.30)\tAcc@5  98.44 ( 97.78)\n",
            "Test: [ 0/79]\tTime  0.160 ( 0.160)\tLoss 7.5543e-01 (7.5543e-01)\tAcc@1  75.00 ( 75.00)\tAcc@5  98.44 ( 98.44)\n",
            "Test: [50/79]\tTime  0.025 ( 0.035)\tLoss 8.7848e-01 (8.0059e-01)\tAcc@1  70.31 ( 73.05)\tAcc@5  98.44 ( 97.92)\n",
            " * Acc@1 72.800 Acc@5 97.930\n",
            "lr: [0.09911787333957532]\n",
            "Epoch: [18][  0/391]\tTime  0.240 ( 0.240)\tData  0.183 ( 0.183)\tLoss 7.6483e-01 (7.6483e-01)\tAcc@1  72.66 ( 72.66)\tAcc@5  96.88 ( 96.88)\n",
            "Epoch: [18][ 50/391]\tTime  0.047 ( 0.059)\tData  0.001 ( 0.020)\tLoss 8.7374e-01 (8.1438e-01)\tAcc@1  70.31 ( 72.01)\tAcc@5  97.66 ( 97.92)\n",
            "Epoch: [18][100/391]\tTime  0.057 ( 0.064)\tData  0.016 ( 0.026)\tLoss 8.2283e-01 (8.1102e-01)\tAcc@1  72.66 ( 72.34)\tAcc@5  97.66 ( 97.80)\n",
            "Epoch: [18][150/391]\tTime  0.085 ( 0.068)\tData  0.048 ( 0.030)\tLoss 5.6713e-01 (8.0011e-01)\tAcc@1  80.47 ( 72.67)\tAcc@5  99.22 ( 97.87)\n",
            "Epoch: [18][200/391]\tTime  0.045 ( 0.064)\tData  0.001 ( 0.027)\tLoss 7.6725e-01 (7.9601e-01)\tAcc@1  75.00 ( 72.64)\tAcc@5  98.44 ( 97.88)\n",
            "Epoch: [18][250/391]\tTime  0.032 ( 0.062)\tData  0.002 ( 0.026)\tLoss 8.7716e-01 (7.9969e-01)\tAcc@1  67.97 ( 72.45)\tAcc@5  96.09 ( 97.84)\n",
            "Epoch: [18][300/391]\tTime  0.069 ( 0.061)\tData  0.030 ( 0.025)\tLoss 8.1514e-01 (7.9607e-01)\tAcc@1  69.53 ( 72.58)\tAcc@5  98.44 ( 97.89)\n",
            "Epoch: [18][350/391]\tTime  0.094 ( 0.064)\tData  0.034 ( 0.027)\tLoss 6.1141e-01 (7.9629e-01)\tAcc@1  79.69 ( 72.59)\tAcc@5 100.00 ( 97.87)\n",
            "Test: [ 0/79]\tTime  0.154 ( 0.154)\tLoss 8.3330e-01 (8.3330e-01)\tAcc@1  72.66 ( 72.66)\tAcc@5  96.09 ( 96.09)\n",
            "Test: [50/79]\tTime  0.039 ( 0.035)\tLoss 7.7000e-01 (7.8984e-01)\tAcc@1  74.22 ( 72.67)\tAcc@5  98.44 ( 97.84)\n",
            " * Acc@1 72.600 Acc@5 97.990\n",
            "lr: [0.09906484356773167]\n",
            "Epoch: [19][  0/391]\tTime  0.253 ( 0.253)\tData  0.189 ( 0.189)\tLoss 7.0834e-01 (7.0834e-01)\tAcc@1  77.34 ( 77.34)\tAcc@5 100.00 (100.00)\n",
            "Epoch: [19][ 50/391]\tTime  0.061 ( 0.059)\tData  0.023 ( 0.020)\tLoss 7.8097e-01 (7.6319e-01)\tAcc@1  73.44 ( 73.51)\tAcc@5  96.09 ( 98.22)\n",
            "Epoch: [19][100/391]\tTime  0.050 ( 0.057)\tData  0.013 ( 0.019)\tLoss 8.3874e-01 (7.8388e-01)\tAcc@1  70.31 ( 72.92)\tAcc@5  96.88 ( 98.10)\n",
            "Epoch: [19][150/391]\tTime  0.135 ( 0.066)\tData  0.088 ( 0.026)\tLoss 8.3239e-01 (7.8889e-01)\tAcc@1  69.53 ( 72.85)\tAcc@5  96.88 ( 98.09)\n",
            "Epoch: [19][200/391]\tTime  0.032 ( 0.065)\tData  0.002 ( 0.025)\tLoss 8.1954e-01 (7.8653e-01)\tAcc@1  74.22 ( 73.03)\tAcc@5  96.09 ( 98.05)\n",
            "Epoch: [19][250/391]\tTime  0.048 ( 0.063)\tData  0.007 ( 0.024)\tLoss 6.6589e-01 (7.8628e-01)\tAcc@1  77.34 ( 73.09)\tAcc@5  98.44 ( 97.98)\n",
            "Epoch: [19][300/391]\tTime  0.043 ( 0.061)\tData  0.007 ( 0.023)\tLoss 8.0783e-01 (7.9177e-01)\tAcc@1  70.31 ( 72.86)\tAcc@5  96.88 ( 97.95)\n",
            "Epoch: [19][350/391]\tTime  0.054 ( 0.061)\tData  0.001 ( 0.023)\tLoss 8.6793e-01 (7.9288e-01)\tAcc@1  68.75 ( 72.93)\tAcc@5  96.09 ( 97.92)\n",
            "Test: [ 0/79]\tTime  0.203 ( 0.203)\tLoss 7.2785e-01 (7.2785e-01)\tAcc@1  78.91 ( 78.91)\tAcc@5  95.31 ( 95.31)\n",
            "Test: [50/79]\tTime  0.038 ( 0.037)\tLoss 9.2534e-01 (8.4057e-01)\tAcc@1  69.53 ( 71.54)\tAcc@5  96.09 ( 97.63)\n",
            " * Acc@1 71.510 Acc@5 97.580\n",
            "lr: [0.09901134191047999]\n"
          ]
        }
      ],
      "source": [
        "for epoch in range(START_EPOCH, EPOCHS):\n",
        "    adjust_learning_rate(optimizer, epoch)\n",
        "\n",
        "    # train for one epoch\n",
        "    train(train_loader, model, criterion, optimizer, epoch)\n",
        "\n",
        "    # evaluate on validation set\n",
        "    acc1 = validate(val_loader, model, criterion)\n",
        "\n",
        "    # remember best acc@1 and save checkpoint\n",
        "    is_best = acc1 > best_acc1\n",
        "    best_acc1 = max(acc1, best_acc1)\n",
        "\n",
        "\n",
        "    save_checkpoint({\n",
        "        'epoch': epoch + 1,\n",
        "        'arch': ARCH,\n",
        "        'state_dict': model.state_dict(),\n",
        "        'best_acc1': best_acc1,\n",
        "        'optimizer' : optimizer.state_dict(),\n",
        "    }, is_best)\n",
        "    \n",
        "    scheduler.step()\n",
        "    print('lr: ' + str(scheduler.get_last_lr()))"
      ]
    },
    {
      "cell_type": "code",
      "execution_count": null,
      "id": "45c4cb64",
      "metadata": {
        "id": "45c4cb64"
      },
      "outputs": [],
      "source": []
    },
    {
      "cell_type": "code",
      "execution_count": null,
      "id": "0d8d6131",
      "metadata": {
        "id": "0d8d6131"
      },
      "outputs": [],
      "source": []
    }
  ],
  "metadata": {
    "kernelspec": {
      "display_name": "Python 3",
      "language": "python",
      "name": "python3"
    },
    "language_info": {
      "codemirror_mode": {
        "name": "ipython",
        "version": 3
      },
      "file_extension": ".py",
      "mimetype": "text/x-python",
      "name": "python",
      "nbconvert_exporter": "python",
      "pygments_lexer": "ipython3",
      "version": "3.6.9"
    },
    "colab": {
      "provenance": []
    },
    "accelerator": "GPU",
    "gpuClass": "standard",
    "widgets": {
      "application/vnd.jupyter.widget-state+json": {
        "d92e986e1c05423b99885cd607d50a55": {
          "model_module": "@jupyter-widgets/controls",
          "model_name": "HBoxModel",
          "model_module_version": "1.5.0",
          "state": {
            "_dom_classes": [],
            "_model_module": "@jupyter-widgets/controls",
            "_model_module_version": "1.5.0",
            "_model_name": "HBoxModel",
            "_view_count": null,
            "_view_module": "@jupyter-widgets/controls",
            "_view_module_version": "1.5.0",
            "_view_name": "HBoxView",
            "box_style": "",
            "children": [
              "IPY_MODEL_0d1ad2cd18c54122854bf33b37608cf6",
              "IPY_MODEL_cba5693c082a454da57c71f168645b01",
              "IPY_MODEL_2894f95842604138b389f75b4b26cde2"
            ],
            "layout": "IPY_MODEL_21ca6c7faf1340ac905145e7f8fcbad7"
          }
        },
        "0d1ad2cd18c54122854bf33b37608cf6": {
          "model_module": "@jupyter-widgets/controls",
          "model_name": "HTMLModel",
          "model_module_version": "1.5.0",
          "state": {
            "_dom_classes": [],
            "_model_module": "@jupyter-widgets/controls",
            "_model_module_version": "1.5.0",
            "_model_name": "HTMLModel",
            "_view_count": null,
            "_view_module": "@jupyter-widgets/controls",
            "_view_module_version": "1.5.0",
            "_view_name": "HTMLView",
            "description": "",
            "description_tooltip": null,
            "layout": "IPY_MODEL_64aeb270a265483e926cef9f2bcb1329",
            "placeholder": "​",
            "style": "IPY_MODEL_e7c21a9ce2324cfea04346400f46ee4b",
            "value": "100%"
          }
        },
        "cba5693c082a454da57c71f168645b01": {
          "model_module": "@jupyter-widgets/controls",
          "model_name": "FloatProgressModel",
          "model_module_version": "1.5.0",
          "state": {
            "_dom_classes": [],
            "_model_module": "@jupyter-widgets/controls",
            "_model_module_version": "1.5.0",
            "_model_name": "FloatProgressModel",
            "_view_count": null,
            "_view_module": "@jupyter-widgets/controls",
            "_view_module_version": "1.5.0",
            "_view_name": "ProgressView",
            "bar_style": "success",
            "description": "",
            "description_tooltip": null,
            "layout": "IPY_MODEL_12cb743a7f5d4bcdb43c4a33d8c32484",
            "max": 46830571,
            "min": 0,
            "orientation": "horizontal",
            "style": "IPY_MODEL_443b46375be74d429c78e14241e055d8",
            "value": 46830571
          }
        },
        "2894f95842604138b389f75b4b26cde2": {
          "model_module": "@jupyter-widgets/controls",
          "model_name": "HTMLModel",
          "model_module_version": "1.5.0",
          "state": {
            "_dom_classes": [],
            "_model_module": "@jupyter-widgets/controls",
            "_model_module_version": "1.5.0",
            "_model_name": "HTMLModel",
            "_view_count": null,
            "_view_module": "@jupyter-widgets/controls",
            "_view_module_version": "1.5.0",
            "_view_name": "HTMLView",
            "description": "",
            "description_tooltip": null,
            "layout": "IPY_MODEL_93cf0c20bcd741aeae9504b82d02c223",
            "placeholder": "​",
            "style": "IPY_MODEL_db65a2fdc155416692b25cbfdca1b33c",
            "value": " 44.7M/44.7M [00:00&lt;00:00, 152MB/s]"
          }
        },
        "21ca6c7faf1340ac905145e7f8fcbad7": {
          "model_module": "@jupyter-widgets/base",
          "model_name": "LayoutModel",
          "model_module_version": "1.2.0",
          "state": {
            "_model_module": "@jupyter-widgets/base",
            "_model_module_version": "1.2.0",
            "_model_name": "LayoutModel",
            "_view_count": null,
            "_view_module": "@jupyter-widgets/base",
            "_view_module_version": "1.2.0",
            "_view_name": "LayoutView",
            "align_content": null,
            "align_items": null,
            "align_self": null,
            "border": null,
            "bottom": null,
            "display": null,
            "flex": null,
            "flex_flow": null,
            "grid_area": null,
            "grid_auto_columns": null,
            "grid_auto_flow": null,
            "grid_auto_rows": null,
            "grid_column": null,
            "grid_gap": null,
            "grid_row": null,
            "grid_template_areas": null,
            "grid_template_columns": null,
            "grid_template_rows": null,
            "height": null,
            "justify_content": null,
            "justify_items": null,
            "left": null,
            "margin": null,
            "max_height": null,
            "max_width": null,
            "min_height": null,
            "min_width": null,
            "object_fit": null,
            "object_position": null,
            "order": null,
            "overflow": null,
            "overflow_x": null,
            "overflow_y": null,
            "padding": null,
            "right": null,
            "top": null,
            "visibility": null,
            "width": null
          }
        },
        "64aeb270a265483e926cef9f2bcb1329": {
          "model_module": "@jupyter-widgets/base",
          "model_name": "LayoutModel",
          "model_module_version": "1.2.0",
          "state": {
            "_model_module": "@jupyter-widgets/base",
            "_model_module_version": "1.2.0",
            "_model_name": "LayoutModel",
            "_view_count": null,
            "_view_module": "@jupyter-widgets/base",
            "_view_module_version": "1.2.0",
            "_view_name": "LayoutView",
            "align_content": null,
            "align_items": null,
            "align_self": null,
            "border": null,
            "bottom": null,
            "display": null,
            "flex": null,
            "flex_flow": null,
            "grid_area": null,
            "grid_auto_columns": null,
            "grid_auto_flow": null,
            "grid_auto_rows": null,
            "grid_column": null,
            "grid_gap": null,
            "grid_row": null,
            "grid_template_areas": null,
            "grid_template_columns": null,
            "grid_template_rows": null,
            "height": null,
            "justify_content": null,
            "justify_items": null,
            "left": null,
            "margin": null,
            "max_height": null,
            "max_width": null,
            "min_height": null,
            "min_width": null,
            "object_fit": null,
            "object_position": null,
            "order": null,
            "overflow": null,
            "overflow_x": null,
            "overflow_y": null,
            "padding": null,
            "right": null,
            "top": null,
            "visibility": null,
            "width": null
          }
        },
        "e7c21a9ce2324cfea04346400f46ee4b": {
          "model_module": "@jupyter-widgets/controls",
          "model_name": "DescriptionStyleModel",
          "model_module_version": "1.5.0",
          "state": {
            "_model_module": "@jupyter-widgets/controls",
            "_model_module_version": "1.5.0",
            "_model_name": "DescriptionStyleModel",
            "_view_count": null,
            "_view_module": "@jupyter-widgets/base",
            "_view_module_version": "1.2.0",
            "_view_name": "StyleView",
            "description_width": ""
          }
        },
        "12cb743a7f5d4bcdb43c4a33d8c32484": {
          "model_module": "@jupyter-widgets/base",
          "model_name": "LayoutModel",
          "model_module_version": "1.2.0",
          "state": {
            "_model_module": "@jupyter-widgets/base",
            "_model_module_version": "1.2.0",
            "_model_name": "LayoutModel",
            "_view_count": null,
            "_view_module": "@jupyter-widgets/base",
            "_view_module_version": "1.2.0",
            "_view_name": "LayoutView",
            "align_content": null,
            "align_items": null,
            "align_self": null,
            "border": null,
            "bottom": null,
            "display": null,
            "flex": null,
            "flex_flow": null,
            "grid_area": null,
            "grid_auto_columns": null,
            "grid_auto_flow": null,
            "grid_auto_rows": null,
            "grid_column": null,
            "grid_gap": null,
            "grid_row": null,
            "grid_template_areas": null,
            "grid_template_columns": null,
            "grid_template_rows": null,
            "height": null,
            "justify_content": null,
            "justify_items": null,
            "left": null,
            "margin": null,
            "max_height": null,
            "max_width": null,
            "min_height": null,
            "min_width": null,
            "object_fit": null,
            "object_position": null,
            "order": null,
            "overflow": null,
            "overflow_x": null,
            "overflow_y": null,
            "padding": null,
            "right": null,
            "top": null,
            "visibility": null,
            "width": null
          }
        },
        "443b46375be74d429c78e14241e055d8": {
          "model_module": "@jupyter-widgets/controls",
          "model_name": "ProgressStyleModel",
          "model_module_version": "1.5.0",
          "state": {
            "_model_module": "@jupyter-widgets/controls",
            "_model_module_version": "1.5.0",
            "_model_name": "ProgressStyleModel",
            "_view_count": null,
            "_view_module": "@jupyter-widgets/base",
            "_view_module_version": "1.2.0",
            "_view_name": "StyleView",
            "bar_color": null,
            "description_width": ""
          }
        },
        "93cf0c20bcd741aeae9504b82d02c223": {
          "model_module": "@jupyter-widgets/base",
          "model_name": "LayoutModel",
          "model_module_version": "1.2.0",
          "state": {
            "_model_module": "@jupyter-widgets/base",
            "_model_module_version": "1.2.0",
            "_model_name": "LayoutModel",
            "_view_count": null,
            "_view_module": "@jupyter-widgets/base",
            "_view_module_version": "1.2.0",
            "_view_name": "LayoutView",
            "align_content": null,
            "align_items": null,
            "align_self": null,
            "border": null,
            "bottom": null,
            "display": null,
            "flex": null,
            "flex_flow": null,
            "grid_area": null,
            "grid_auto_columns": null,
            "grid_auto_flow": null,
            "grid_auto_rows": null,
            "grid_column": null,
            "grid_gap": null,
            "grid_row": null,
            "grid_template_areas": null,
            "grid_template_columns": null,
            "grid_template_rows": null,
            "height": null,
            "justify_content": null,
            "justify_items": null,
            "left": null,
            "margin": null,
            "max_height": null,
            "max_width": null,
            "min_height": null,
            "min_width": null,
            "object_fit": null,
            "object_position": null,
            "order": null,
            "overflow": null,
            "overflow_x": null,
            "overflow_y": null,
            "padding": null,
            "right": null,
            "top": null,
            "visibility": null,
            "width": null
          }
        },
        "db65a2fdc155416692b25cbfdca1b33c": {
          "model_module": "@jupyter-widgets/controls",
          "model_name": "DescriptionStyleModel",
          "model_module_version": "1.5.0",
          "state": {
            "_model_module": "@jupyter-widgets/controls",
            "_model_module_version": "1.5.0",
            "_model_name": "DescriptionStyleModel",
            "_view_count": null,
            "_view_module": "@jupyter-widgets/base",
            "_view_module_version": "1.2.0",
            "_view_name": "StyleView",
            "description_width": ""
          }
        }
      }
    }
  },
  "nbformat": 4,
  "nbformat_minor": 5
}