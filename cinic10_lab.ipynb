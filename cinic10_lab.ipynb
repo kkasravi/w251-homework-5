{
  "cells": [
    {
      "cell_type": "code",
      "execution_count": 1,
      "id": "cace261f",
      "metadata": {
        "id": "cace261f"
      },
      "outputs": [],
      "source": [
        "import os\n",
        "import random\n",
        "import shutil\n",
        "import time\n",
        "import warnings\n",
        "import zipfile\n",
        "\n",
        "import torch\n",
        "import torch.nn as nn\n",
        "import torch.backends.cudnn as cudnn\n",
        "import torch.optim\n",
        "\n",
        "import torch.utils.data\n",
        "import torchvision\n",
        "import torchvision.transforms as transforms\n",
        "import torchvision.datasets as datasets\n",
        "import torchvision.models as models"
      ]
    },
    {
      "cell_type": "code",
      "source": [
        "from google.colab import drive\n",
        "drive.mount('/content/drive')"
      ],
      "metadata": {
        "colab": {
          "base_uri": "https://localhost:8080/"
        },
        "id": "HBhCaGZX7pqj",
        "outputId": "bb413c52-7f3e-486b-bb96-27e833f975b6"
      },
      "id": "HBhCaGZX7pqj",
      "execution_count": 2,
      "outputs": [
        {
          "output_type": "stream",
          "name": "stdout",
          "text": [
            "Mounted at /content/drive\n"
          ]
        }
      ]
    },
    {
      "cell_type": "code",
      "source": [
        "!pip install kaggle"
      ],
      "metadata": {
        "colab": {
          "base_uri": "https://localhost:8080/"
        },
        "id": "mlwBiB4CaofX",
        "outputId": "0794a42c-6737-4fe4-a39d-7c33116f71ad"
      },
      "id": "mlwBiB4CaofX",
      "execution_count": null,
      "outputs": [
        {
          "output_type": "stream",
          "name": "stdout",
          "text": [
            "Looking in indexes: https://pypi.org/simple, https://us-python.pkg.dev/colab-wheels/public/simple/\n",
            "Requirement already satisfied: kaggle in /usr/local/lib/python3.8/dist-packages (1.5.12)\n",
            "Requirement already satisfied: certifi in /usr/local/lib/python3.8/dist-packages (from kaggle) (2022.12.7)\n",
            "Requirement already satisfied: python-slugify in /usr/local/lib/python3.8/dist-packages (from kaggle) (8.0.0)\n",
            "Requirement already satisfied: six>=1.10 in /usr/local/lib/python3.8/dist-packages (from kaggle) (1.15.0)\n",
            "Requirement already satisfied: urllib3 in /usr/local/lib/python3.8/dist-packages (from kaggle) (1.24.3)\n",
            "Requirement already satisfied: requests in /usr/local/lib/python3.8/dist-packages (from kaggle) (2.25.1)\n",
            "Requirement already satisfied: python-dateutil in /usr/local/lib/python3.8/dist-packages (from kaggle) (2.8.2)\n",
            "Requirement already satisfied: tqdm in /usr/local/lib/python3.8/dist-packages (from kaggle) (4.64.1)\n",
            "Requirement already satisfied: text-unidecode>=1.3 in /usr/local/lib/python3.8/dist-packages (from python-slugify->kaggle) (1.3)\n",
            "Requirement already satisfied: idna<3,>=2.5 in /usr/local/lib/python3.8/dist-packages (from requests->kaggle) (2.10)\n",
            "Requirement already satisfied: chardet<5,>=3.0.2 in /usr/local/lib/python3.8/dist-packages (from requests->kaggle) (4.0.0)\n"
          ]
        }
      ]
    },
    {
      "cell_type": "code",
      "source": [
        "!cp -r /content/drive/MyDrive/.kaggle /root/\n",
        "!chmod 0600 /root/.kaggle/kaggle.json"
      ],
      "metadata": {
        "id": "lDVDqnOLbIhf"
      },
      "id": "lDVDqnOLbIhf",
      "execution_count": 3,
      "outputs": []
    },
    {
      "cell_type": "code",
      "source": [
        "!kaggle datasets download -d mengcius/cinic10"
      ],
      "metadata": {
        "colab": {
          "base_uri": "https://localhost:8080/"
        },
        "id": "4dFSPgtIs-Le",
        "outputId": "d82a31ea-6ff9-491c-c99b-ecea2d123f17"
      },
      "id": "4dFSPgtIs-Le",
      "execution_count": 6,
      "outputs": [
        {
          "output_type": "stream",
          "name": "stdout",
          "text": [
            "Downloading cinic10.zip to /content\n",
            "100% 752M/754M [00:23<00:00, 42.1MB/s]\n",
            "100% 754M/754M [00:23<00:00, 33.7MB/s]\n"
          ]
        }
      ]
    },
    {
      "cell_type": "code",
      "source": [
        "ZIPFILE = '/content/cinic10.zip'\n",
        "ROOTDIR=\"/content/drive/MyDrive/cinic-10\"\n",
        "TRAINDIR=\"/content/drive/MyDrive/cinic-10/train\"\n",
        "VALDIR=\"/content/drive/MyDrive/cinic-10/valid\""
      ],
      "metadata": {
        "id": "dZHOcgKRxd9T"
      },
      "id": "dZHOcgKRxd9T",
      "execution_count": 10,
      "outputs": []
    },
    {
      "cell_type": "code",
      "source": [
        "# Open the zip file and extract to ROOTDIR\n",
        "if os.path.isfile(ZIPFILE) is True and os.path.exists(ROOTDIR) is False:\n",
        "  # Create a directory using ROOTDIR\n",
        "  os.makedirs(ROOTDIR, exist_ok=True)\n",
        "\n",
        "  with zipfile.ZipFile(ZIPFILE, 'r') as zip_ref:\n",
        "      # Extract the contents to the ROOTDIR directory\n",
        "      zip_ref.extractall(ROOTDIR)"
      ],
      "metadata": {
        "id": "v813u1FWwx4P"
      },
      "id": "v813u1FWwx4P",
      "execution_count": null,
      "outputs": []
    },
    {
      "cell_type": "code",
      "execution_count": 12,
      "id": "d693cd6c",
      "metadata": {
        "id": "d693cd6c"
      },
      "outputs": [],
      "source": [
        "SEED=1"
      ]
    },
    {
      "cell_type": "code",
      "execution_count": 13,
      "id": "363e2b75",
      "metadata": {
        "id": "363e2b75"
      },
      "outputs": [],
      "source": [
        "random.seed(SEED)\n",
        "torch.manual_seed(SEED)\n",
        "cudnn.deterministic = True"
      ]
    },
    {
      "cell_type": "code",
      "execution_count": 14,
      "id": "0d479743",
      "metadata": {
        "id": "0d479743"
      },
      "outputs": [],
      "source": [
        "START_EPOCH = 0"
      ]
    },
    {
      "cell_type": "markdown",
      "id": "c8ec40e9",
      "metadata": {
        "id": "c8ec40e9"
      },
      "source": [
        "### Set the architecture to resnet 18 below"
      ]
    },
    {
      "cell_type": "code",
      "execution_count": 21,
      "id": "97b1a0aa",
      "metadata": {
        "tags": [
          "parameters"
        ],
        "id": "97b1a0aa"
      },
      "outputs": [],
      "source": [
        "##########################\n",
        "ARCH = \"resnet18\"\n",
        "# please look up how to do that\n",
        "########################\n",
        "EPOCHS = 5\n",
        "LR = 0.1\n",
        "MOMENTUM = 0.9\n",
        "WEIGHT_DECAY = 5e-4\n",
        "PRINT_FREQ = 50\n",
        "TRAIN_BATCH=128\n",
        "VAL_BATCH=128\n",
        "WORKERS=2"
      ]
    },
    {
      "cell_type": "markdown",
      "id": "e86c3188",
      "metadata": {
        "id": "e86c3188"
      },
      "source": [
        "### Check if cuda is available here"
      ]
    },
    {
      "cell_type": "code",
      "execution_count": 16,
      "id": "63a0499b",
      "metadata": {
        "id": "63a0499b"
      },
      "outputs": [],
      "source": [
        "# check if cuda is available in this cell\n",
        "# if it is not available, you should not go forward!\n",
        "if torch.cuda.is_available() is not True:\n",
        "  print(\"No cuda device!\")"
      ]
    },
    {
      "cell_type": "markdown",
      "id": "f83c35f6",
      "metadata": {
        "id": "f83c35f6"
      },
      "source": [
        "### Assign your GPU below"
      ]
    },
    {
      "cell_type": "code",
      "execution_count": 17,
      "id": "252a08a3",
      "metadata": {
        "id": "252a08a3"
      },
      "outputs": [],
      "source": [
        "# Assign your GPU in this cell\n",
        "GPU = \"cuda:0\""
      ]
    },
    {
      "cell_type": "code",
      "execution_count": 18,
      "id": "d8e7ec23",
      "metadata": {
        "id": "d8e7ec23"
      },
      "outputs": [],
      "source": [
        "# set your active device to your GPU in this cell\n",
        "device = 'cuda'\n"
      ]
    },
    {
      "cell_type": "code",
      "execution_count": 19,
      "id": "1e5ddf20",
      "metadata": {
        "id": "1e5ddf20"
      },
      "outputs": [],
      "source": [
        "# enable algorithm optimization\n",
        "cudnn.benchmark = True"
      ]
    },
    {
      "cell_type": "markdown",
      "id": "7cdd6e12",
      "metadata": {
        "id": "7cdd6e12"
      },
      "source": [
        "### Fill in the heart of the train section below"
      ]
    },
    {
      "cell_type": "code",
      "execution_count": 22,
      "id": "70dbd4c4",
      "metadata": {
        "id": "70dbd4c4"
      },
      "outputs": [],
      "source": [
        "def train(train_loader, model, criterion, optimizer, epoch):\n",
        "    batch_time = AverageMeter('Time', ':6.3f')\n",
        "    data_time = AverageMeter('Data', ':6.3f')\n",
        "    losses = AverageMeter('Loss', ':.4e')\n",
        "    top1 = AverageMeter('Acc@1', ':6.2f')\n",
        "    top5 = AverageMeter('Acc@5', ':6.2f')\n",
        "    progress = ProgressMeter(\n",
        "        len(train_loader),\n",
        "        [batch_time, data_time, losses, top1, top5],\n",
        "        prefix=\"Epoch: [{}]\".format(epoch))\n",
        "\n",
        "    ######################\n",
        "    # switch model to train mode here\n",
        "    model.train()\n",
        "    ################\n",
        "\n",
        "    end = time.time()\n",
        "    for i, (images, target) in enumerate(train_loader):\n",
        "        # measure data loading time\n",
        "        data_time.update(time.time() - end)\n",
        "\n",
        "        #####################\n",
        "        # send the images to cuda device\n",
        "        # send the target to cuda device\n",
        "        images = images.to(device)\n",
        "        target = target.to(device)\n",
        " \n",
        "        # compute output\n",
        "        # output = model ?? images\n",
        "        output = model(images)\n",
        "\n",
        "        # compute loss \n",
        "        # loss = criterion, output, target\n",
        "        loss = criterion(output, target)\n",
        "\n",
        "        # measure accuracy and record loss\n",
        "        acc1, acc5 = accuracy(output, target, topk=(1, 5))\n",
        "        losses.update(loss.item(), images.size(0))\n",
        "        top1.update(acc1[0], images.size(0))\n",
        "        top5.update(acc5[0], images.size(0))\n",
        "\n",
        "        # compute gradient and do SGD step\n",
        "        \n",
        "        #### zero out gradients in the optimier\n",
        "        ## optimizer ..??\n",
        "        optimizer.zero_grad()\n",
        "        \n",
        "        ## backprop!\n",
        "        ### loss... ???\n",
        "        loss.backward()\n",
        "        \n",
        "        # update the weights!\n",
        "        ## optimier .. ??\n",
        "        optimizer.step()\n",
        "\n",
        "        # measure elapsed time\n",
        "        batch_time.update(time.time() - end)\n",
        "        end = time.time()\n",
        "\n",
        "        if i % PRINT_FREQ == 0:\n",
        "            progress.display(i)"
      ]
    },
    {
      "cell_type": "markdown",
      "id": "deb3b62e",
      "metadata": {
        "id": "deb3b62e"
      },
      "source": [
        "#### Fill in the validate section below"
      ]
    },
    {
      "cell_type": "code",
      "execution_count": 23,
      "id": "a3f276cc",
      "metadata": {
        "id": "a3f276cc"
      },
      "outputs": [],
      "source": [
        "def validate(val_loader, model, criterion):\n",
        "    batch_time = AverageMeter('Time', ':6.3f')\n",
        "    losses = AverageMeter('Loss', ':.4e')\n",
        "    top1 = AverageMeter('Acc@1', ':6.2f')\n",
        "    top5 = AverageMeter('Acc@5', ':6.2f')\n",
        "    progress = ProgressMeter(\n",
        "        len(val_loader),\n",
        "        [batch_time, losses, top1, top5],\n",
        "        prefix='Test: ')\n",
        "\n",
        "    # switch to evaluate mode\n",
        "    model.eval()\n",
        "\n",
        "    with torch.no_grad():\n",
        "        end = time.time()\n",
        "        for i, (images, target) in enumerate(val_loader):\n",
        "            \n",
        "            ### send the images and target to cuda\n",
        "            images = images.to(device)\n",
        "            target = target.to(device)\n",
        "\n",
        "            # compute output\n",
        "            # output = model ??? images?\n",
        "            output = model(images)\n",
        "\n",
        "            # compute loss\n",
        "            # loss  = criterion ?? output ?? target\n",
        "            loss = criterion(output, target)\n",
        "\n",
        "\n",
        "            # measure accuracy and record loss\n",
        "            acc1, acc5 = accuracy(output, target, topk=(1, 5))\n",
        "            losses.update(loss.item(), images.size(0))\n",
        "            top1.update(acc1[0], images.size(0))\n",
        "            top5.update(acc5[0], images.size(0))\n",
        "\n",
        "            # measure elapsed time\n",
        "            batch_time.update(time.time() - end)\n",
        "            end = time.time()\n",
        "\n",
        "            if i % PRINT_FREQ == 0:\n",
        "                progress.display(i)\n",
        "\n",
        "        # TODO: this should also be done with the ProgressMeter\n",
        "        print(' * Acc@1 {top1.avg:.3f} Acc@5 {top5.avg:.3f}'\n",
        "              .format(top1=top1, top5=top5))\n",
        "\n",
        "    return top1.avg"
      ]
    },
    {
      "cell_type": "markdown",
      "id": "fbe49226",
      "metadata": {
        "id": "fbe49226"
      },
      "source": [
        "### Save the checkpoint"
      ]
    },
    {
      "cell_type": "code",
      "execution_count": 24,
      "id": "ff8a4159",
      "metadata": {
        "id": "ff8a4159"
      },
      "outputs": [],
      "source": [
        "def save_checkpoint(state, is_best, filename='checkpoint.pth.tar'):\n",
        "    # save the model state!\n",
        "    # state ??? \n",
        "    torch.save(state, filename)\n",
        "    if is_best:\n",
        "        shutil.copyfile(filename, 'model_best.pth.tar')"
      ]
    },
    {
      "cell_type": "code",
      "execution_count": 25,
      "id": "1cd7ea3a",
      "metadata": {
        "id": "1cd7ea3a"
      },
      "outputs": [],
      "source": [
        "class AverageMeter(object):\n",
        "    \"\"\"Computes and stores the average and current value\"\"\"\n",
        "    def __init__(self, name, fmt=':f'):\n",
        "        self.name = name\n",
        "        self.fmt = fmt\n",
        "        self.reset()\n",
        "\n",
        "    def reset(self):\n",
        "        self.val = 0\n",
        "        self.avg = 0\n",
        "        self.sum = 0\n",
        "        self.count = 0\n",
        "\n",
        "    def update(self, val, n=1):\n",
        "        self.val = val\n",
        "        self.sum += val * n\n",
        "        self.count += n\n",
        "        self.avg = self.sum / self.count\n",
        "\n",
        "    def __str__(self):\n",
        "        fmtstr = '{name} {val' + self.fmt + '} ({avg' + self.fmt + '})'\n",
        "        return fmtstr.format(**self.__dict__)"
      ]
    },
    {
      "cell_type": "code",
      "execution_count": 26,
      "id": "e1da87ab",
      "metadata": {
        "id": "e1da87ab"
      },
      "outputs": [],
      "source": [
        "class ProgressMeter(object):\n",
        "    def __init__(self, num_batches, meters, prefix=\"\"):\n",
        "        self.batch_fmtstr = self._get_batch_fmtstr(num_batches)\n",
        "        self.meters = meters\n",
        "        self.prefix = prefix\n",
        "\n",
        "    def display(self, batch):\n",
        "        entries = [self.prefix + self.batch_fmtstr.format(batch)]\n",
        "        entries += [str(meter) for meter in self.meters]\n",
        "        print('\\t'.join(entries))\n",
        "\n",
        "    def _get_batch_fmtstr(self, num_batches):\n",
        "        num_digits = len(str(num_batches // 1))\n",
        "        fmt = '{:' + str(num_digits) + 'd}'\n",
        "        return '[' + fmt + '/' + fmt.format(num_batches) + ']'"
      ]
    },
    {
      "cell_type": "code",
      "execution_count": 27,
      "id": "00211030",
      "metadata": {
        "id": "00211030"
      },
      "outputs": [],
      "source": [
        "# if we are adjusting the LR manually use this\n",
        "def adjust_learning_rate(optimizer, epoch):\n",
        "    \"\"\"Sets the learning rate to the initial LR decayed by 10 every 30 epochs\"\"\"\n",
        "    lr = LR * (0.1 ** (epoch // 30))\n",
        "    for param_group in optimizer.param_groups:\n",
        "        param_group['lr'] = lr"
      ]
    },
    {
      "cell_type": "code",
      "execution_count": 28,
      "id": "da2c1382",
      "metadata": {
        "id": "da2c1382"
      },
      "outputs": [],
      "source": [
        "def accuracy(output, target, topk=(1,)):\n",
        "    \"\"\"Computes the accuracy over the k top predictions for the specified values of k\"\"\"\n",
        "    with torch.no_grad():\n",
        "        maxk = max(topk)\n",
        "        batch_size = target.size(0)\n",
        "\n",
        "        _, pred = output.topk(maxk, 1, True, True)\n",
        "        pred = pred.t()\n",
        "        correct = pred.eq(target.view(1, -1).expand_as(pred))\n",
        "\n",
        "        res = []\n",
        "        for k in topk:\n",
        "            correct_k = correct[:k].reshape(-1).float().sum(0, keepdim=True)\n",
        "            res.append(correct_k.mul_(100.0 / batch_size))\n",
        "        return res"
      ]
    },
    {
      "cell_type": "code",
      "execution_count": 29,
      "id": "5c29e7a1",
      "metadata": {
        "id": "5c29e7a1"
      },
      "outputs": [],
      "source": [
        "imagenet_mean_RGB = [0.47889522, 0.47227842, 0.43047404]\n",
        "imagenet_std_RGB = [0.229, 0.224, 0.225]\n",
        "cinic_mean_RGB = [0.47889522, 0.47227842, 0.43047404]\n",
        "cinic_std_RGB = [0.24205776, 0.23828046, 0.25874835]\n",
        "cifar_mean_RGB = [0.4914, 0.4822, 0.4465]\n",
        "cifar_std_RGB = [0.2023, 0.1994, 0.2010]"
      ]
    },
    {
      "cell_type": "code",
      "execution_count": 30,
      "id": "e1a61c02",
      "metadata": {
        "id": "e1a61c02"
      },
      "outputs": [],
      "source": [
        "normalize = transforms.Normalize(mean=cifar_mean_RGB, std=cifar_std_RGB)"
      ]
    },
    {
      "cell_type": "code",
      "execution_count": 31,
      "id": "47dd3e49",
      "metadata": {
        "id": "47dd3e49"
      },
      "outputs": [],
      "source": [
        "IMG_SIZE = 32\n",
        "# IMG_SIZE = 224"
      ]
    },
    {
      "cell_type": "markdown",
      "id": "de4387cb",
      "metadata": {
        "id": "de4387cb"
      },
      "source": [
        "### Initialize the model using the architecture you selected above"
      ]
    },
    {
      "cell_type": "code",
      "execution_count": 32,
      "id": "b1abcc33",
      "metadata": {
        "id": "b1abcc33",
        "colab": {
          "base_uri": "https://localhost:8080/",
          "height": 158,
          "referenced_widgets": [
            "614a17d14b954f42860b9e28650d82f2",
            "cba7f19b585146b6a44e7bb1de8fad70",
            "8fb01a9f0a4b43288c53f1f72d6395a1",
            "70443bc9713244de9af24c94f12741c9",
            "af36e0b36bde42f0a6efae54815e5dbb",
            "f84a2620b73f47c7b9d6b8c8e78b3a34",
            "d25f7a7b2c224ac28d0d5101e680873a",
            "497975374082418cbb18b3dc50e7dacb",
            "ddd319a76ac54d2e882ead20e006a24d",
            "43309de9a5dd4324992a4c1fcf4049d6",
            "0dd8b402c5064a6783c68974c33e10b0"
          ]
        },
        "outputId": "ccd93c1a-960d-4558-e4ce-be8dca99edf3"
      },
      "outputs": [
        {
          "output_type": "stream",
          "name": "stderr",
          "text": [
            "/usr/local/lib/python3.8/dist-packages/torchvision/models/_utils.py:208: UserWarning: The parameter 'pretrained' is deprecated since 0.13 and may be removed in the future, please use 'weights' instead.\n",
            "  warnings.warn(\n",
            "/usr/local/lib/python3.8/dist-packages/torchvision/models/_utils.py:223: UserWarning: Arguments other than a weight enum or `None` for 'weights' are deprecated since 0.13 and may be removed in the future. The current behavior is equivalent to passing `weights=ResNet18_Weights.IMAGENET1K_V1`. You can also use `weights=ResNet18_Weights.DEFAULT` to get the most up-to-date weights.\n",
            "  warnings.warn(msg)\n",
            "Downloading: \"https://download.pytorch.org/models/resnet18-f37072fd.pth\" to /root/.cache/torch/hub/checkpoints/resnet18-f37072fd.pth\n"
          ]
        },
        {
          "output_type": "display_data",
          "data": {
            "text/plain": [
              "  0%|          | 0.00/44.7M [00:00<?, ?B/s]"
            ],
            "application/vnd.jupyter.widget-view+json": {
              "version_major": 2,
              "version_minor": 0,
              "model_id": "614a17d14b954f42860b9e28650d82f2"
            }
          },
          "metadata": {}
        }
      ],
      "source": [
        "# select the model\n",
        "# model = ... \n",
        "if ARCH == \"resnet18\":\n",
        "    model = models.resnet18(pretrained=True)"
      ]
    },
    {
      "cell_type": "markdown",
      "id": "2db1bb69",
      "metadata": {
        "id": "2db1bb69"
      },
      "source": [
        "### Send the model to the cuda device"
      ]
    },
    {
      "cell_type": "code",
      "execution_count": 33,
      "id": "7d23ccb4",
      "metadata": {
        "id": "7d23ccb4"
      },
      "outputs": [],
      "source": [
        "# send the model to the cuda device.. \n",
        "model = model.to(device)"
      ]
    },
    {
      "cell_type": "markdown",
      "id": "47a8eb8d",
      "metadata": {
        "id": "47a8eb8d"
      },
      "source": [
        "### Instantiate the loss to cross entropy"
      ]
    },
    {
      "cell_type": "code",
      "execution_count": 35,
      "id": "a49ae3c9",
      "metadata": {
        "id": "a49ae3c9"
      },
      "outputs": [],
      "source": [
        "# use the cross-entropy loss\n",
        "criterion = nn.CrossEntropyLoss()"
      ]
    },
    {
      "cell_type": "markdown",
      "id": "8a49045a",
      "metadata": {
        "id": "8a49045a"
      },
      "source": [
        "### Instantiate the optimizer to SGD"
      ]
    },
    {
      "cell_type": "code",
      "execution_count": 36,
      "id": "aa3a04dd",
      "metadata": {
        "id": "aa3a04dd"
      },
      "outputs": [],
      "source": [
        "# use SGD .. use the momentum and weight decay vars\n",
        "optimizer = torch.optim.SGD(model.parameters(), lr=LR, momentum=MOMENTUM, weight_decay=WEIGHT_DECAY)\n"
      ]
    },
    {
      "cell_type": "markdown",
      "id": "f93ef11d",
      "metadata": {
        "id": "f93ef11d"
      },
      "source": [
        "#### Create the learning rate scheduler"
      ]
    },
    {
      "cell_type": "code",
      "execution_count": 38,
      "id": "a0e1727a",
      "metadata": {
        "id": "a0e1727a"
      },
      "outputs": [],
      "source": [
        "# use CosineAnnealingLR\n",
        "scheduler = torch.optim.lr_scheduler.CosineAnnealingLR(optimizer, T_max=EPOCHS)"
      ]
    },
    {
      "cell_type": "code",
      "execution_count": 39,
      "id": "2fe08caa",
      "metadata": {
        "id": "2fe08caa"
      },
      "outputs": [],
      "source": [
        "transform_train = transforms.Compose([\n",
        "    transforms.RandomCrop(32, padding=4),\n",
        "    transforms.RandomHorizontalFlip(),\n",
        "    transforms.ToTensor(),\n",
        "    transforms.Normalize(cifar_mean_RGB, cifar_std_RGB),\n",
        "])"
      ]
    },
    {
      "cell_type": "markdown",
      "id": "236528e1",
      "metadata": {
        "id": "236528e1"
      },
      "source": [
        "### Create the train dataset object"
      ]
    },
    {
      "cell_type": "code",
      "execution_count": 43,
      "id": "7c29f6b1",
      "metadata": {
        "id": "7c29f6b1"
      },
      "outputs": [],
      "source": [
        "# use CINIC-10\n",
        "train_dataset = torchvision.datasets.ImageFolder(root=TRAINDIR, transform=transform_train)\n",
        "#train_dataset = torchvision.datasets.CIFAR10('./datasets', train=True, \n",
        "#                                         download=True, transform=transform_train)\n",
        "\n"
      ]
    },
    {
      "cell_type": "code",
      "execution_count": 44,
      "id": "63dfe3c0",
      "metadata": {
        "id": "63dfe3c0"
      },
      "outputs": [],
      "source": [
        "transform_val = transforms.Compose([\n",
        "    transforms.ToTensor(),\n",
        "    transforms.Normalize(cifar_mean_RGB, cifar_std_RGB),\n",
        "])"
      ]
    },
    {
      "cell_type": "markdown",
      "id": "38ca6c39",
      "metadata": {
        "id": "38ca6c39"
      },
      "source": [
        "### Create the val dataset object"
      ]
    },
    {
      "cell_type": "code",
      "execution_count": 45,
      "id": "42d58f82",
      "metadata": {
        "id": "42d58f82"
      },
      "outputs": [],
      "source": [
        "# use CINIC-10\n",
        "val_dataset = torchvision.datasets.ImageFolder(root=VALDIR, transform=transform_val)\n",
        "\n",
        "#val_dataset = torchvision.datasets.CIFAR10(root='./datasets', train=False,\n",
        "#                                        download=True, transform=transform_val)"
      ]
    },
    {
      "cell_type": "markdown",
      "id": "3a291660",
      "metadata": {
        "id": "3a291660"
      },
      "source": [
        "### Create the train dataloader"
      ]
    },
    {
      "cell_type": "code",
      "execution_count": 46,
      "id": "574373be",
      "metadata": {
        "id": "574373be"
      },
      "outputs": [],
      "source": [
        "# fill this in\n",
        "train_loader = torch.utils.data.DataLoader(train_dataset, batch_size=TRAIN_BATCH, \n",
        "                                           shuffle=True, num_workers=WORKERS)\n"
      ]
    },
    {
      "cell_type": "markdown",
      "id": "b280c6e0",
      "metadata": {
        "id": "b280c6e0"
      },
      "source": [
        "### Create the c"
      ]
    },
    {
      "cell_type": "code",
      "execution_count": 47,
      "id": "6aa623fe",
      "metadata": {
        "id": "6aa623fe"
      },
      "outputs": [],
      "source": [
        "# fill this in..\n",
        "val_loader = torch.utils.data.DataLoader(val_dataset, batch_size=VAL_BATCH, \n",
        "                                          shuffle=False, num_workers=WORKERS)\n"
      ]
    },
    {
      "cell_type": "code",
      "execution_count": 48,
      "id": "7cfa6766",
      "metadata": {
        "id": "7cfa6766"
      },
      "outputs": [],
      "source": [
        "best_acc1 = 0"
      ]
    },
    {
      "cell_type": "code",
      "execution_count": null,
      "id": "0d0620a6",
      "metadata": {
        "id": "0d0620a6",
        "colab": {
          "base_uri": "https://localhost:8080/"
        },
        "outputId": "5b0af13e-a330-4abe-be97-c809deaa9310"
      },
      "outputs": [
        {
          "output_type": "stream",
          "name": "stdout",
          "text": [
            "Epoch: [0][  0/704]\tTime 12.572 (12.572)\tData  3.170 ( 3.170)\tLoss 1.3703e+01 (1.3703e+01)\tAcc@1   0.00 (  0.00)\tAcc@5   0.78 (  0.78)\n",
            "Epoch: [0][ 50/704]\tTime  0.276 ( 0.731)\tData  0.252 ( 0.515)\tLoss 4.8737e+00 (4.8204e+00)\tAcc@1  14.06 ( 10.71)\tAcc@5  58.59 ( 50.74)\n",
            "Epoch: [0][100/704]\tTime  0.566 ( 0.777)\tData  0.536 ( 0.652)\tLoss 2.2826e+00 (4.0181e+00)\tAcc@1  14.84 ( 12.62)\tAcc@5  68.75 ( 55.10)\n"
          ]
        }
      ],
      "source": [
        "for epoch in range(START_EPOCH, EPOCHS):\n",
        "    adjust_learning_rate(optimizer, epoch)\n",
        "\n",
        "    # train for one epoch\n",
        "    train(train_loader, model, criterion, optimizer, epoch)\n",
        "\n",
        "    # evaluate on validation set\n",
        "    acc1 = validate(val_loader, model, criterion)\n",
        "\n",
        "    # remember best acc@1 and save checkpoint\n",
        "    is_best = acc1 > best_acc1\n",
        "    best_acc1 = max(acc1, best_acc1)\n",
        "\n",
        "\n",
        "    save_checkpoint({\n",
        "        'epoch': epoch + 1,\n",
        "        'arch': ARCH,\n",
        "        'state_dict': model.state_dict(),\n",
        "        'best_acc1': best_acc1,\n",
        "        'optimizer' : optimizer.state_dict(),\n",
        "    }, is_best)\n",
        "    \n",
        "    scheduler.step()\n",
        "    print('lr: ' + str(scheduler.get_last_lr()))"
      ]
    },
    {
      "cell_type": "code",
      "execution_count": null,
      "id": "45c4cb64",
      "metadata": {
        "id": "45c4cb64"
      },
      "outputs": [],
      "source": []
    },
    {
      "cell_type": "code",
      "execution_count": null,
      "id": "0d8d6131",
      "metadata": {
        "id": "0d8d6131"
      },
      "outputs": [],
      "source": []
    }
  ],
  "metadata": {
    "kernelspec": {
      "display_name": "Python 3",
      "language": "python",
      "name": "python3"
    },
    "language_info": {
      "codemirror_mode": {
        "name": "ipython",
        "version": 3
      },
      "file_extension": ".py",
      "mimetype": "text/x-python",
      "name": "python",
      "nbconvert_exporter": "python",
      "pygments_lexer": "ipython3",
      "version": "3.6.9"
    },
    "colab": {
      "provenance": []
    },
    "accelerator": "GPU",
    "gpuClass": "standard",
    "widgets": {
      "application/vnd.jupyter.widget-state+json": {
        "614a17d14b954f42860b9e28650d82f2": {
          "model_module": "@jupyter-widgets/controls",
          "model_name": "HBoxModel",
          "model_module_version": "1.5.0",
          "state": {
            "_dom_classes": [],
            "_model_module": "@jupyter-widgets/controls",
            "_model_module_version": "1.5.0",
            "_model_name": "HBoxModel",
            "_view_count": null,
            "_view_module": "@jupyter-widgets/controls",
            "_view_module_version": "1.5.0",
            "_view_name": "HBoxView",
            "box_style": "",
            "children": [
              "IPY_MODEL_cba7f19b585146b6a44e7bb1de8fad70",
              "IPY_MODEL_8fb01a9f0a4b43288c53f1f72d6395a1",
              "IPY_MODEL_70443bc9713244de9af24c94f12741c9"
            ],
            "layout": "IPY_MODEL_af36e0b36bde42f0a6efae54815e5dbb"
          }
        },
        "cba7f19b585146b6a44e7bb1de8fad70": {
          "model_module": "@jupyter-widgets/controls",
          "model_name": "HTMLModel",
          "model_module_version": "1.5.0",
          "state": {
            "_dom_classes": [],
            "_model_module": "@jupyter-widgets/controls",
            "_model_module_version": "1.5.0",
            "_model_name": "HTMLModel",
            "_view_count": null,
            "_view_module": "@jupyter-widgets/controls",
            "_view_module_version": "1.5.0",
            "_view_name": "HTMLView",
            "description": "",
            "description_tooltip": null,
            "layout": "IPY_MODEL_f84a2620b73f47c7b9d6b8c8e78b3a34",
            "placeholder": "​",
            "style": "IPY_MODEL_d25f7a7b2c224ac28d0d5101e680873a",
            "value": "100%"
          }
        },
        "8fb01a9f0a4b43288c53f1f72d6395a1": {
          "model_module": "@jupyter-widgets/controls",
          "model_name": "FloatProgressModel",
          "model_module_version": "1.5.0",
          "state": {
            "_dom_classes": [],
            "_model_module": "@jupyter-widgets/controls",
            "_model_module_version": "1.5.0",
            "_model_name": "FloatProgressModel",
            "_view_count": null,
            "_view_module": "@jupyter-widgets/controls",
            "_view_module_version": "1.5.0",
            "_view_name": "ProgressView",
            "bar_style": "success",
            "description": "",
            "description_tooltip": null,
            "layout": "IPY_MODEL_497975374082418cbb18b3dc50e7dacb",
            "max": 46830571,
            "min": 0,
            "orientation": "horizontal",
            "style": "IPY_MODEL_ddd319a76ac54d2e882ead20e006a24d",
            "value": 46830571
          }
        },
        "70443bc9713244de9af24c94f12741c9": {
          "model_module": "@jupyter-widgets/controls",
          "model_name": "HTMLModel",
          "model_module_version": "1.5.0",
          "state": {
            "_dom_classes": [],
            "_model_module": "@jupyter-widgets/controls",
            "_model_module_version": "1.5.0",
            "_model_name": "HTMLModel",
            "_view_count": null,
            "_view_module": "@jupyter-widgets/controls",
            "_view_module_version": "1.5.0",
            "_view_name": "HTMLView",
            "description": "",
            "description_tooltip": null,
            "layout": "IPY_MODEL_43309de9a5dd4324992a4c1fcf4049d6",
            "placeholder": "​",
            "style": "IPY_MODEL_0dd8b402c5064a6783c68974c33e10b0",
            "value": " 44.7M/44.7M [00:00&lt;00:00, 86.0MB/s]"
          }
        },
        "af36e0b36bde42f0a6efae54815e5dbb": {
          "model_module": "@jupyter-widgets/base",
          "model_name": "LayoutModel",
          "model_module_version": "1.2.0",
          "state": {
            "_model_module": "@jupyter-widgets/base",
            "_model_module_version": "1.2.0",
            "_model_name": "LayoutModel",
            "_view_count": null,
            "_view_module": "@jupyter-widgets/base",
            "_view_module_version": "1.2.0",
            "_view_name": "LayoutView",
            "align_content": null,
            "align_items": null,
            "align_self": null,
            "border": null,
            "bottom": null,
            "display": null,
            "flex": null,
            "flex_flow": null,
            "grid_area": null,
            "grid_auto_columns": null,
            "grid_auto_flow": null,
            "grid_auto_rows": null,
            "grid_column": null,
            "grid_gap": null,
            "grid_row": null,
            "grid_template_areas": null,
            "grid_template_columns": null,
            "grid_template_rows": null,
            "height": null,
            "justify_content": null,
            "justify_items": null,
            "left": null,
            "margin": null,
            "max_height": null,
            "max_width": null,
            "min_height": null,
            "min_width": null,
            "object_fit": null,
            "object_position": null,
            "order": null,
            "overflow": null,
            "overflow_x": null,
            "overflow_y": null,
            "padding": null,
            "right": null,
            "top": null,
            "visibility": null,
            "width": null
          }
        },
        "f84a2620b73f47c7b9d6b8c8e78b3a34": {
          "model_module": "@jupyter-widgets/base",
          "model_name": "LayoutModel",
          "model_module_version": "1.2.0",
          "state": {
            "_model_module": "@jupyter-widgets/base",
            "_model_module_version": "1.2.0",
            "_model_name": "LayoutModel",
            "_view_count": null,
            "_view_module": "@jupyter-widgets/base",
            "_view_module_version": "1.2.0",
            "_view_name": "LayoutView",
            "align_content": null,
            "align_items": null,
            "align_self": null,
            "border": null,
            "bottom": null,
            "display": null,
            "flex": null,
            "flex_flow": null,
            "grid_area": null,
            "grid_auto_columns": null,
            "grid_auto_flow": null,
            "grid_auto_rows": null,
            "grid_column": null,
            "grid_gap": null,
            "grid_row": null,
            "grid_template_areas": null,
            "grid_template_columns": null,
            "grid_template_rows": null,
            "height": null,
            "justify_content": null,
            "justify_items": null,
            "left": null,
            "margin": null,
            "max_height": null,
            "max_width": null,
            "min_height": null,
            "min_width": null,
            "object_fit": null,
            "object_position": null,
            "order": null,
            "overflow": null,
            "overflow_x": null,
            "overflow_y": null,
            "padding": null,
            "right": null,
            "top": null,
            "visibility": null,
            "width": null
          }
        },
        "d25f7a7b2c224ac28d0d5101e680873a": {
          "model_module": "@jupyter-widgets/controls",
          "model_name": "DescriptionStyleModel",
          "model_module_version": "1.5.0",
          "state": {
            "_model_module": "@jupyter-widgets/controls",
            "_model_module_version": "1.5.0",
            "_model_name": "DescriptionStyleModel",
            "_view_count": null,
            "_view_module": "@jupyter-widgets/base",
            "_view_module_version": "1.2.0",
            "_view_name": "StyleView",
            "description_width": ""
          }
        },
        "497975374082418cbb18b3dc50e7dacb": {
          "model_module": "@jupyter-widgets/base",
          "model_name": "LayoutModel",
          "model_module_version": "1.2.0",
          "state": {
            "_model_module": "@jupyter-widgets/base",
            "_model_module_version": "1.2.0",
            "_model_name": "LayoutModel",
            "_view_count": null,
            "_view_module": "@jupyter-widgets/base",
            "_view_module_version": "1.2.0",
            "_view_name": "LayoutView",
            "align_content": null,
            "align_items": null,
            "align_self": null,
            "border": null,
            "bottom": null,
            "display": null,
            "flex": null,
            "flex_flow": null,
            "grid_area": null,
            "grid_auto_columns": null,
            "grid_auto_flow": null,
            "grid_auto_rows": null,
            "grid_column": null,
            "grid_gap": null,
            "grid_row": null,
            "grid_template_areas": null,
            "grid_template_columns": null,
            "grid_template_rows": null,
            "height": null,
            "justify_content": null,
            "justify_items": null,
            "left": null,
            "margin": null,
            "max_height": null,
            "max_width": null,
            "min_height": null,
            "min_width": null,
            "object_fit": null,
            "object_position": null,
            "order": null,
            "overflow": null,
            "overflow_x": null,
            "overflow_y": null,
            "padding": null,
            "right": null,
            "top": null,
            "visibility": null,
            "width": null
          }
        },
        "ddd319a76ac54d2e882ead20e006a24d": {
          "model_module": "@jupyter-widgets/controls",
          "model_name": "ProgressStyleModel",
          "model_module_version": "1.5.0",
          "state": {
            "_model_module": "@jupyter-widgets/controls",
            "_model_module_version": "1.5.0",
            "_model_name": "ProgressStyleModel",
            "_view_count": null,
            "_view_module": "@jupyter-widgets/base",
            "_view_module_version": "1.2.0",
            "_view_name": "StyleView",
            "bar_color": null,
            "description_width": ""
          }
        },
        "43309de9a5dd4324992a4c1fcf4049d6": {
          "model_module": "@jupyter-widgets/base",
          "model_name": "LayoutModel",
          "model_module_version": "1.2.0",
          "state": {
            "_model_module": "@jupyter-widgets/base",
            "_model_module_version": "1.2.0",
            "_model_name": "LayoutModel",
            "_view_count": null,
            "_view_module": "@jupyter-widgets/base",
            "_view_module_version": "1.2.0",
            "_view_name": "LayoutView",
            "align_content": null,
            "align_items": null,
            "align_self": null,
            "border": null,
            "bottom": null,
            "display": null,
            "flex": null,
            "flex_flow": null,
            "grid_area": null,
            "grid_auto_columns": null,
            "grid_auto_flow": null,
            "grid_auto_rows": null,
            "grid_column": null,
            "grid_gap": null,
            "grid_row": null,
            "grid_template_areas": null,
            "grid_template_columns": null,
            "grid_template_rows": null,
            "height": null,
            "justify_content": null,
            "justify_items": null,
            "left": null,
            "margin": null,
            "max_height": null,
            "max_width": null,
            "min_height": null,
            "min_width": null,
            "object_fit": null,
            "object_position": null,
            "order": null,
            "overflow": null,
            "overflow_x": null,
            "overflow_y": null,
            "padding": null,
            "right": null,
            "top": null,
            "visibility": null,
            "width": null
          }
        },
        "0dd8b402c5064a6783c68974c33e10b0": {
          "model_module": "@jupyter-widgets/controls",
          "model_name": "DescriptionStyleModel",
          "model_module_version": "1.5.0",
          "state": {
            "_model_module": "@jupyter-widgets/controls",
            "_model_module_version": "1.5.0",
            "_model_name": "DescriptionStyleModel",
            "_view_count": null,
            "_view_module": "@jupyter-widgets/base",
            "_view_module_version": "1.2.0",
            "_view_name": "StyleView",
            "description_width": ""
          }
        }
      }
    }
  },
  "nbformat": 4,
  "nbformat_minor": 5
}